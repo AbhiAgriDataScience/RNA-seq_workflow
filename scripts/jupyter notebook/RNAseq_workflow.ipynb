{
 "cells": [
  {
   "cell_type": "markdown",
   "metadata": {},
   "source": [
    "#### Title: Differential Gene Expression using RNA-Seq (Workflow)\n",
    "* Created by: Abhishek Shrestha\n",
    "* Created on: 09.01.2024"
   ]
  },
  {
   "cell_type": "code",
   "execution_count": 3,
   "metadata": {},
   "outputs": [],
   "source": [
    "# Import necessary libraries\n",
    "from Bio import SeqIO\n",
    "import pandas as pd\n",
    "import matplotlib.pyplot as plt\n",
    "import seaborn as sns\n",
    "\n",
    "import os\n",
    "import subprocess"
   ]
  },
  {
   "cell_type": "markdown",
   "metadata": {},
   "source": [
    "#### Step 0: Initial setup of folders and subfolders"
   ]
  },
  {
   "cell_type": "code",
   "execution_count": 13,
   "metadata": {},
   "outputs": [],
   "source": [
    "import os\n",
    "import subprocess\n",
    "\n",
    "# Define root and output folders\n",
    "root_folder = \"RNA_seq_workflow\"\n",
    "fastq_dir = os.path.join(root_folder, \"input\")\n",
    "output_folder = os.path.join(root_folder, \"output\")\n",
    "fastqc_dir = os.path.join(output_folder, \"1_initial_qc\")\n",
    "trimmed_dir = os.path.join(output_folder, \"2_trimmed_output\")\n",
    "aligned_sequences_dir = os.path.join(output_folder, \"3_aligned_sequences\")\n",
    "aligned_bam_dir = os.path.join(aligned_sequences_dir, \"aligned_bam\")\n",
    "aligned_logs_dir = os.path.join(aligned_sequences_dir, \"aligned_logs\")\n",
    "sorted_bam_dir = os.path.join(aligned_sequences_dir, \"sorted_bam\")\n",
    "sorted_bam_logs = os.path.join(aligned_sequences_dir, \"sorted_logs\")\n",
    "final_counts_dir = os.path.join(output_folder, \"4_final_counts\")\n",
    "multiQC_dir = os.path.join(output_folder, \"5_multiQC\")\n",
    "hisat2_index_dir = os.path.join(root_folder, \"hisat2_index\")\n",
    "genome_dir = os.path.join(root_folder, \"genome\")\n",
    "annotation_dir = os.path.join(root_folder, \"annotation\")\n",
    "adapter_file = os.path.join(root_folder, \"adapters\", \"TruSeq3-PE.fa\")\n",
    "\n",
    "# Ensure directories exist\n",
    "os.makedirs(fastq_dir, exist_ok=True)\n",
    "os.makedirs(output_folder, exist_ok=True)\n",
    "os.makedirs(fastqc_dir, exist_ok=True)\n",
    "os.makedirs(trimmed_dir, exist_ok=True)\n",
    "os.makedirs(aligned_sequences_dir, exist_ok=True)\n",
    "os.makedirs(aligned_bam_dir, exist_ok= True)\n",
    "os.makedirs(aligned_logs_dir, exist_ok= True)\n",
    "os.makedirs(sorted_bam_dir, exist_ok= True)\n",
    "os.makedirs(sorted_bam_logs, exist_ok= True)\n",
    "os.makedirs(final_counts_dir, exist_ok=True)\n",
    "os.makedirs(multiQC_dir, exist_ok=True)\n",
    "os.makedirs(hisat2_index_dir, exist_ok=True)\n",
    "os.makedirs(genome_dir, exist_ok=True)\n",
    "os.makedirs(annotation_dir, exist_ok=True)\n",
    "os.makedirs(adapter_file, exist_ok=True)\n"
   ]
  },
  {
   "cell_type": "markdown",
   "metadata": {},
   "source": [
    "#### Step 1: Download required files\n",
    "\n",
    "##### Step 1.1: Download genome and annotation file"
   ]
  },
  {
   "cell_type": "code",
   "execution_count": 3,
   "metadata": {},
   "outputs": [
    {
     "name": "stdout",
     "output_type": "stream",
     "text": [
      "Downloading RNA_seq_workflow/genome/Hordeum_vulgare.MorexV3_pseudomolecules_assembly.dna.toplevel.fa.gz...\n",
      "Downloaded: RNA_seq_workflow/genome/Hordeum_vulgare.MorexV3_pseudomolecules_assembly.dna.toplevel.fa.gz\n",
      "Decompressing RNA_seq_workflow/genome/Hordeum_vulgare.MorexV3_pseudomolecules_assembly.dna.toplevel.fa.gz...\n",
      "Decompressed to: RNA_seq_workflow/genome/Hordeum_vulgare.MorexV3_pseudomolecules_assembly.dna.toplevel.fa\n",
      "Downloading RNA_seq_workflow/annotation/Hordeum_vulgare.MorexV3_pseudomolecules_assembly.60.chr.gff3.gz...\n",
      "Downloaded: RNA_seq_workflow/annotation/Hordeum_vulgare.MorexV3_pseudomolecules_assembly.60.chr.gff3.gz\n",
      "Decompressing RNA_seq_workflow/annotation/Hordeum_vulgare.MorexV3_pseudomolecules_assembly.60.chr.gff3.gz...\n",
      "Decompressed to: RNA_seq_workflow/annotation/Hordeum_vulgare.MorexV3_pseudomolecules_assembly.60.chr.gff3\n",
      "All files downloaded and decompressed successfully!\n"
     ]
    }
   ],
   "source": [
    "import os\n",
    "import subprocess\n",
    "\n",
    "# Define the output directories\n",
    "root_folder = \"RNA_seq_workflow\"\n",
    "genome_dir = os.path.join(root_folder, \"genome\")\n",
    "annotation_dir = os.path.join(root_folder, \"annotation\")\n",
    "os.makedirs(genome_dir, exist_ok=True)\n",
    "os.makedirs(annotation_dir, exist_ok=True)\n",
    "\n",
    "# URLs for the files\n",
    "urls = {\n",
    "    \"genome\": \"https://ftp.ensemblgenomes.ebi.ac.uk/pub/plants/release-60/fasta/hordeum_vulgare/dna/Hordeum_vulgare.MorexV3_pseudomolecules_assembly.dna.toplevel.fa.gz\",\n",
    "    \"annotation\": \"https://ftp.ensemblgenomes.ebi.ac.uk/pub/plants/release-60/gff3/hordeum_vulgare/Hordeum_vulgare.MorexV3_pseudomolecules_assembly.60.chr.gff3.gz\",\n",
    "}\n",
    "\n",
    "# File paths\n",
    "output_files = {\n",
    "    \"genome\": os.path.join(genome_dir, \"Hordeum_vulgare.MorexV3_pseudomolecules_assembly.dna.toplevel.fa.gz\"),\n",
    "    \"annotation\": os.path.join(annotation_dir, \"Hordeum_vulgare.MorexV3_pseudomolecules_assembly.60.chr.gff3.gz\"),\n",
    "}\n",
    "\n",
    "# Function to download and decompress files using wget and gunzip\n",
    "def download_and_decompress_wget(url, output_path):\n",
    "    # Download file using wget\n",
    "    try:\n",
    "        print(f\"Downloading {output_path}...\")\n",
    "        subprocess.run([\"wget\", \"-q\", \"-O\", output_path, url], check=True)\n",
    "        print(f\"Downloaded: {output_path}\")\n",
    "    except subprocess.CalledProcessError as e:\n",
    "        print(f\"Failed to download {output_path}. Error: {e}\")\n",
    "        return\n",
    "\n",
    "    # Decompress file using gunzip\n",
    "    try:\n",
    "        print(f\"Decompressing {output_path}...\")\n",
    "        subprocess.run([\"gunzip\", \"-f\", output_path], check=True)\n",
    "        print(f\"Decompressed to: {output_path[:-3]}\")\n",
    "    except subprocess.CalledProcessError as e:\n",
    "        print(f\"Failed to decompress {output_path}. Error: {e}\")\n",
    "\n",
    "# Download and decompress files\n",
    "for file_type, url in urls.items():\n",
    "    download_and_decompress_wget(url, output_files[file_type])\n",
    "\n",
    "print(\"All files downloaded and decompressed successfully!\")"
   ]
  },
  {
   "cell_type": "markdown",
   "metadata": {},
   "source": [
    "##### Step 1.2: Download fastq files of control and pathogen treated barley plants"
   ]
  },
  {
   "cell_type": "code",
   "execution_count": 7,
   "metadata": {},
   "outputs": [
    {
     "name": "stdout",
     "output_type": "stream",
     "text": [
      "Downloading FASTQ files for SRR8437478...\n",
      "2025-01-10T18:51:32 prefetch.3.1.1: 1) Resolving 'SRR8437478'...\n",
      "2025-01-10T18:51:33 prefetch.3.1.1: Current preference is set to retrieve SRA Normalized Format files with full base quality scores\n",
      "2025-01-10T18:51:33 prefetch.3.1.1: 1) 'SRR8437478' is found locally \n",
      "2025-01-10T18:51:33 prefetch.3.1.1: 'SRR8437478' has 0 unresolved dependencies\n"
     ]
    },
    {
     "name": "stderr",
     "output_type": "stream",
     "text": [
      "spots read      : 23,939,223\n",
      "reads read      : 47,878,446\n",
      "reads written   : 47,878,446\n"
     ]
    },
    {
     "name": "stdout",
     "output_type": "stream",
     "text": [
      "Compressed: RNA_seq_workflow/input/SRR8437478_1.fastq.gz\n",
      "Compressed: RNA_seq_workflow/input/SRR8437478_2.fastq.gz\n",
      "Downloaded and saved FASTQ files for SRR8437478 to RNA_seq_workflow/input\n",
      "Downloading FASTQ files for SRR8437479...\n",
      "2025-01-10T19:14:12 prefetch.3.1.1: 1) Resolving 'SRR8437479'...\n",
      "2025-01-10T19:14:13 prefetch.3.1.1: Current preference is set to retrieve SRA Normalized Format files with full base quality scores\n",
      "2025-01-10T19:14:14 prefetch.3.1.1: 1) Downloading 'SRR8437479'...\n",
      "2025-01-10T19:14:14 prefetch.3.1.1:  SRA Normalized Format file is being retrieved\n",
      "2025-01-10T19:14:14 prefetch.3.1.1:  Downloading via HTTPS...\n",
      "2025-01-10T19:18:07 prefetch.3.1.1:  HTTPS download succeed\n",
      "2025-01-10T19:18:22 prefetch.3.1.1:  'SRR8437479' is valid: 3700880202 bytes were streamed from 3700873763\n",
      "2025-01-10T19:18:22 prefetch.3.1.1: 1) 'SRR8437479' was downloaded successfully\n",
      "2025-01-10T19:18:23 prefetch.3.1.1: 'SRR8437479' has 0 unresolved dependencies\n"
     ]
    },
    {
     "name": "stderr",
     "output_type": "stream",
     "text": [
      "spots read      : 26,772,466\n",
      "reads read      : 53,544,932\n",
      "reads written   : 53,544,932\n"
     ]
    },
    {
     "name": "stdout",
     "output_type": "stream",
     "text": [
      "Compressed: RNA_seq_workflow/input/SRR8437479_2.fastq.gz\n",
      "Compressed: RNA_seq_workflow/input/SRR8437479_1.fastq.gz\n",
      "Downloaded and saved FASTQ files for SRR8437479 to RNA_seq_workflow/input\n",
      "All FASTQ files are saved in: RNA_seq_workflow/input\n"
     ]
    }
   ],
   "source": [
    "# Step 1.2 Download fastq files \n",
    "import os\n",
    "import subprocess\n",
    "\n",
    "# Define output directory for FASTQ files\n",
    "root_folder = \"RNA_seq_workflow\"\n",
    "fastq_dir = os.path.join(root_folder, \"input\")\n",
    "os.makedirs(fastq_dir, exist_ok=True)  # Ensure the output directory exists\n",
    "\n",
    "# Download FASTQ files using SRA Toolkit\n",
    "def download_fastq(srr_id, fastq_dir):\n",
    "    print(f\"Downloading FASTQ files for {srr_id}...\")\n",
    "    # Use prefetch to download the SRA file\n",
    "    subprocess.run([\"prefetch\", srr_id], check=True)\n",
    "    \n",
    "    # Use fasterq-dump to extract FASTQ files to the specified directory\n",
    "    subprocess.run([\n",
    "        \"fasterq-dump\", \"--split-files\", \"--outdir\", fastq_dir, srr_id\n",
    "    ], check=True)\n",
    "    \n",
    "    # Compress the resulting FASTQ files\n",
    "    for fq_file in os.listdir(fastq_dir):\n",
    "        if fq_file.startswith(srr_id) and fq_file.endswith(\".fastq\"):\n",
    "            fq_path = os.path.join(fastq_dir, fq_file)\n",
    "            subprocess.run([\"gzip\", fq_path], check=True)\n",
    "            print(f\"Compressed: {fq_path}.gz\")\n",
    "    print(f\"Downloaded and saved FASTQ files for {srr_id} to {fastq_dir}\")\n",
    "\n",
    "# List of SRR IDs\n",
    "srr_ids = [\"SRR8437484\",\"SRR8437485\", \"SRR8437482\", \"SRR8437483\", \"SRR8437480\", \"SRR8437481\",\"SRR8437478\", \"SRR8437479\"]\n",
    "\n",
    "# Download each SRR ID\n",
    "for srr_id in srr_ids:\n",
    "    download_fastq(srr_id, fastq_dir)\n",
    "\n",
    "print(f\"All FASTQ files are saved in: {fastq_dir}\")"
   ]
  },
  {
   "cell_type": "markdown",
   "metadata": {},
   "source": [
    "##### Step 2: Perform quality control using fastQC and trim reads using trimmomatic"
   ]
  },
  {
   "cell_type": "code",
   "execution_count": 17,
   "metadata": {},
   "outputs": [
    {
     "name": "stdout",
     "output_type": "stream",
     "text": [
      "Running FastQC on RNA_seq_workflow/input/SRR8437484_1.fastq.gz...\n",
      "application/gzip\n"
     ]
    },
    {
     "name": "stderr",
     "output_type": "stream",
     "text": [
      "Started analysis of SRR8437484_1.fastq.gz\n",
      "Approx 5% complete for SRR8437484_1.fastq.gz\n",
      "Approx 10% complete for SRR8437484_1.fastq.gz\n",
      "Approx 15% complete for SRR8437484_1.fastq.gz\n",
      "Approx 20% complete for SRR8437484_1.fastq.gz\n",
      "Approx 25% complete for SRR8437484_1.fastq.gz\n",
      "Approx 30% complete for SRR8437484_1.fastq.gz\n",
      "Approx 35% complete for SRR8437484_1.fastq.gz\n",
      "Approx 40% complete for SRR8437484_1.fastq.gz\n",
      "Approx 45% complete for SRR8437484_1.fastq.gz\n",
      "Approx 50% complete for SRR8437484_1.fastq.gz\n",
      "Approx 55% complete for SRR8437484_1.fastq.gz\n",
      "Approx 60% complete for SRR8437484_1.fastq.gz\n",
      "Approx 65% complete for SRR8437484_1.fastq.gz\n",
      "Approx 70% complete for SRR8437484_1.fastq.gz\n",
      "Approx 75% complete for SRR8437484_1.fastq.gz\n",
      "Approx 80% complete for SRR8437484_1.fastq.gz\n",
      "Approx 85% complete for SRR8437484_1.fastq.gz\n",
      "Approx 90% complete for SRR8437484_1.fastq.gz\n",
      "Approx 95% complete for SRR8437484_1.fastq.gz\n"
     ]
    },
    {
     "name": "stdout",
     "output_type": "stream",
     "text": [
      "Analysis complete for SRR8437484_1.fastq.gz\n",
      "FastQC complete for RNA_seq_workflow/input/SRR8437484_1.fastq.gz. Reports saved in RNA_seq_workflow/output/1_initial_qc\n",
      "Running FastQC on RNA_seq_workflow/input/SRR8437484_2.fastq.gz...\n",
      "application/gzip\n"
     ]
    },
    {
     "name": "stderr",
     "output_type": "stream",
     "text": [
      "Started analysis of SRR8437484_2.fastq.gz\n",
      "Approx 5% complete for SRR8437484_2.fastq.gz\n",
      "Approx 10% complete for SRR8437484_2.fastq.gz\n",
      "Approx 15% complete for SRR8437484_2.fastq.gz\n",
      "Approx 20% complete for SRR8437484_2.fastq.gz\n",
      "Approx 25% complete for SRR8437484_2.fastq.gz\n",
      "Approx 30% complete for SRR8437484_2.fastq.gz\n",
      "Approx 35% complete for SRR8437484_2.fastq.gz\n",
      "Approx 40% complete for SRR8437484_2.fastq.gz\n",
      "Approx 45% complete for SRR8437484_2.fastq.gz\n",
      "Approx 50% complete for SRR8437484_2.fastq.gz\n",
      "Approx 55% complete for SRR8437484_2.fastq.gz\n",
      "Approx 60% complete for SRR8437484_2.fastq.gz\n",
      "Approx 65% complete for SRR8437484_2.fastq.gz\n",
      "Approx 70% complete for SRR8437484_2.fastq.gz\n",
      "Approx 75% complete for SRR8437484_2.fastq.gz\n",
      "Approx 80% complete for SRR8437484_2.fastq.gz\n",
      "Approx 85% complete for SRR8437484_2.fastq.gz\n",
      "Approx 90% complete for SRR8437484_2.fastq.gz\n",
      "Approx 95% complete for SRR8437484_2.fastq.gz\n"
     ]
    },
    {
     "name": "stdout",
     "output_type": "stream",
     "text": [
      "Analysis complete for SRR8437484_2.fastq.gz\n",
      "FastQC complete for RNA_seq_workflow/input/SRR8437484_2.fastq.gz. Reports saved in RNA_seq_workflow/output/1_initial_qc\n",
      "Trimming reads: RNA_seq_workflow/input/SRR8437484_1.fastq.gz and RNA_seq_workflow/input/SRR8437484_2.fastq.gz using adapters from RNA_seq_workflow/adapters/TruSeq3-PE.fa\n"
     ]
    },
    {
     "name": "stderr",
     "output_type": "stream",
     "text": [
      "TrimmomaticPE: Started with arguments:\n",
      " -threads 8 RNA_seq_workflow/input/SRR8437484_1.fastq.gz RNA_seq_workflow/input/SRR8437484_2.fastq.gz RNA_seq_workflow/output/2_trimmed_output/SRR8437484_1.trimmed.fastq.gz unpaired_1.fastq.gz RNA_seq_workflow/output/2_trimmed_output/SRR8437484_2.trimmed.fastq.gz unpaired_2.fastq.gz ILLUMINACLIP:RNA_seq_workflow/adapters/TruSeq3-PE.fa:2:30:10 LEADING:3 TRAILING:3 SLIDINGWINDOW:4:20 MINLEN:50\n",
      "Using PrefixPair: 'TACACTCTTTCCCTACACGACGCTCTTCCGATCT' and 'GTGACTGGAGTTCAGACGTGTGCTCTTCCGATCT'\n",
      "ILLUMINACLIP: Using 1 prefix pairs, 0 forward/reverse sequences, 0 forward only sequences, 0 reverse only sequences\n",
      "Quality encoding detected as phred33\n",
      "Input Read Pairs: 23659826 Both Surviving: 20851928 (88.13%) Forward Only Surviving: 2097457 (8.87%) Reverse Only Surviving: 289495 (1.22%) Dropped: 420946 (1.78%)\n",
      "TrimmomaticPE: Completed successfully\n",
      "Started analysis of SRR8437484_1.trimmed.fastq.gz\n"
     ]
    },
    {
     "name": "stdout",
     "output_type": "stream",
     "text": [
      "Trimming complete. Trimmed files: RNA_seq_workflow/output/2_trimmed_output/SRR8437484_1.trimmed.fastq.gz, RNA_seq_workflow/output/2_trimmed_output/SRR8437484_2.trimmed.fastq.gz\n",
      "Running FastQC on RNA_seq_workflow/output/2_trimmed_output/SRR8437484_1.trimmed.fastq.gz...\n",
      "application/gzip\n"
     ]
    },
    {
     "name": "stderr",
     "output_type": "stream",
     "text": [
      "Approx 5% complete for SRR8437484_1.trimmed.fastq.gz\n",
      "Approx 10% complete for SRR8437484_1.trimmed.fastq.gz\n",
      "Approx 15% complete for SRR8437484_1.trimmed.fastq.gz\n",
      "Approx 20% complete for SRR8437484_1.trimmed.fastq.gz\n",
      "Approx 25% complete for SRR8437484_1.trimmed.fastq.gz\n",
      "Approx 30% complete for SRR8437484_1.trimmed.fastq.gz\n",
      "Approx 35% complete for SRR8437484_1.trimmed.fastq.gz\n",
      "Approx 40% complete for SRR8437484_1.trimmed.fastq.gz\n",
      "Approx 45% complete for SRR8437484_1.trimmed.fastq.gz\n",
      "Approx 50% complete for SRR8437484_1.trimmed.fastq.gz\n",
      "Approx 55% complete for SRR8437484_1.trimmed.fastq.gz\n",
      "Approx 60% complete for SRR8437484_1.trimmed.fastq.gz\n",
      "Approx 65% complete for SRR8437484_1.trimmed.fastq.gz\n",
      "Approx 70% complete for SRR8437484_1.trimmed.fastq.gz\n",
      "Approx 75% complete for SRR8437484_1.trimmed.fastq.gz\n",
      "Approx 80% complete for SRR8437484_1.trimmed.fastq.gz\n",
      "Approx 85% complete for SRR8437484_1.trimmed.fastq.gz\n",
      "Approx 90% complete for SRR8437484_1.trimmed.fastq.gz\n",
      "Approx 95% complete for SRR8437484_1.trimmed.fastq.gz\n"
     ]
    },
    {
     "name": "stdout",
     "output_type": "stream",
     "text": [
      "Analysis complete for SRR8437484_1.trimmed.fastq.gz\n",
      "FastQC complete for RNA_seq_workflow/output/2_trimmed_output/SRR8437484_1.trimmed.fastq.gz. Reports saved in RNA_seq_workflow/output/1_initial_qc\n",
      "Running FastQC on RNA_seq_workflow/output/2_trimmed_output/SRR8437484_2.trimmed.fastq.gz...\n",
      "application/gzip\n"
     ]
    },
    {
     "name": "stderr",
     "output_type": "stream",
     "text": [
      "Started analysis of SRR8437484_2.trimmed.fastq.gz\n",
      "Approx 5% complete for SRR8437484_2.trimmed.fastq.gz\n",
      "Approx 10% complete for SRR8437484_2.trimmed.fastq.gz\n",
      "Approx 15% complete for SRR8437484_2.trimmed.fastq.gz\n",
      "Approx 20% complete for SRR8437484_2.trimmed.fastq.gz\n",
      "Approx 25% complete for SRR8437484_2.trimmed.fastq.gz\n",
      "Approx 30% complete for SRR8437484_2.trimmed.fastq.gz\n",
      "Approx 35% complete for SRR8437484_2.trimmed.fastq.gz\n",
      "Approx 40% complete for SRR8437484_2.trimmed.fastq.gz\n",
      "Approx 45% complete for SRR8437484_2.trimmed.fastq.gz\n",
      "Approx 50% complete for SRR8437484_2.trimmed.fastq.gz\n",
      "Approx 55% complete for SRR8437484_2.trimmed.fastq.gz\n",
      "Approx 60% complete for SRR8437484_2.trimmed.fastq.gz\n",
      "Approx 65% complete for SRR8437484_2.trimmed.fastq.gz\n",
      "Approx 70% complete for SRR8437484_2.trimmed.fastq.gz\n",
      "Approx 75% complete for SRR8437484_2.trimmed.fastq.gz\n",
      "Approx 80% complete for SRR8437484_2.trimmed.fastq.gz\n",
      "Approx 85% complete for SRR8437484_2.trimmed.fastq.gz\n",
      "Approx 90% complete for SRR8437484_2.trimmed.fastq.gz\n",
      "Approx 95% complete for SRR8437484_2.trimmed.fastq.gz\n"
     ]
    },
    {
     "name": "stdout",
     "output_type": "stream",
     "text": [
      "Analysis complete for SRR8437484_2.trimmed.fastq.gz\n",
      "FastQC complete for RNA_seq_workflow/output/2_trimmed_output/SRR8437484_2.trimmed.fastq.gz. Reports saved in RNA_seq_workflow/output/1_initial_qc\n",
      "Running FastQC on RNA_seq_workflow/input/SRR8437485_1.fastq.gz...\n",
      "application/gzip\n"
     ]
    },
    {
     "name": "stderr",
     "output_type": "stream",
     "text": [
      "Started analysis of SRR8437485_1.fastq.gz\n",
      "Approx 5% complete for SRR8437485_1.fastq.gz\n",
      "Approx 10% complete for SRR8437485_1.fastq.gz\n",
      "Approx 15% complete for SRR8437485_1.fastq.gz\n",
      "Approx 20% complete for SRR8437485_1.fastq.gz\n",
      "Approx 25% complete for SRR8437485_1.fastq.gz\n",
      "Approx 30% complete for SRR8437485_1.fastq.gz\n",
      "Approx 35% complete for SRR8437485_1.fastq.gz\n",
      "Approx 40% complete for SRR8437485_1.fastq.gz\n",
      "Approx 45% complete for SRR8437485_1.fastq.gz\n",
      "Approx 50% complete for SRR8437485_1.fastq.gz\n",
      "Approx 55% complete for SRR8437485_1.fastq.gz\n",
      "Approx 60% complete for SRR8437485_1.fastq.gz\n",
      "Approx 65% complete for SRR8437485_1.fastq.gz\n",
      "Approx 70% complete for SRR8437485_1.fastq.gz\n",
      "Approx 75% complete for SRR8437485_1.fastq.gz\n",
      "Approx 80% complete for SRR8437485_1.fastq.gz\n",
      "Approx 85% complete for SRR8437485_1.fastq.gz\n",
      "Approx 90% complete for SRR8437485_1.fastq.gz\n",
      "Approx 95% complete for SRR8437485_1.fastq.gz\n"
     ]
    },
    {
     "name": "stdout",
     "output_type": "stream",
     "text": [
      "Analysis complete for SRR8437485_1.fastq.gz\n",
      "FastQC complete for RNA_seq_workflow/input/SRR8437485_1.fastq.gz. Reports saved in RNA_seq_workflow/output/1_initial_qc\n",
      "Running FastQC on RNA_seq_workflow/input/SRR8437485_2.fastq.gz...\n",
      "application/gzip\n"
     ]
    },
    {
     "name": "stderr",
     "output_type": "stream",
     "text": [
      "Started analysis of SRR8437485_2.fastq.gz\n",
      "Approx 5% complete for SRR8437485_2.fastq.gz\n",
      "Approx 10% complete for SRR8437485_2.fastq.gz\n",
      "Approx 15% complete for SRR8437485_2.fastq.gz\n",
      "Approx 20% complete for SRR8437485_2.fastq.gz\n",
      "Approx 25% complete for SRR8437485_2.fastq.gz\n",
      "Approx 30% complete for SRR8437485_2.fastq.gz\n",
      "Approx 35% complete for SRR8437485_2.fastq.gz\n",
      "Approx 40% complete for SRR8437485_2.fastq.gz\n",
      "Approx 45% complete for SRR8437485_2.fastq.gz\n",
      "Approx 50% complete for SRR8437485_2.fastq.gz\n",
      "Approx 55% complete for SRR8437485_2.fastq.gz\n",
      "Approx 60% complete for SRR8437485_2.fastq.gz\n",
      "Approx 65% complete for SRR8437485_2.fastq.gz\n",
      "Approx 70% complete for SRR8437485_2.fastq.gz\n",
      "Approx 75% complete for SRR8437485_2.fastq.gz\n",
      "Approx 80% complete for SRR8437485_2.fastq.gz\n",
      "Approx 85% complete for SRR8437485_2.fastq.gz\n",
      "Approx 90% complete for SRR8437485_2.fastq.gz\n",
      "Approx 95% complete for SRR8437485_2.fastq.gz\n"
     ]
    },
    {
     "name": "stdout",
     "output_type": "stream",
     "text": [
      "Analysis complete for SRR8437485_2.fastq.gz\n",
      "FastQC complete for RNA_seq_workflow/input/SRR8437485_2.fastq.gz. Reports saved in RNA_seq_workflow/output/1_initial_qc\n",
      "Trimming reads: RNA_seq_workflow/input/SRR8437485_1.fastq.gz and RNA_seq_workflow/input/SRR8437485_2.fastq.gz using adapters from RNA_seq_workflow/adapters/TruSeq3-PE.fa\n"
     ]
    },
    {
     "name": "stderr",
     "output_type": "stream",
     "text": [
      "TrimmomaticPE: Started with arguments:\n",
      " -threads 8 RNA_seq_workflow/input/SRR8437485_1.fastq.gz RNA_seq_workflow/input/SRR8437485_2.fastq.gz RNA_seq_workflow/output/2_trimmed_output/SRR8437485_1.trimmed.fastq.gz unpaired_1.fastq.gz RNA_seq_workflow/output/2_trimmed_output/SRR8437485_2.trimmed.fastq.gz unpaired_2.fastq.gz ILLUMINACLIP:RNA_seq_workflow/adapters/TruSeq3-PE.fa:2:30:10 LEADING:3 TRAILING:3 SLIDINGWINDOW:4:20 MINLEN:50\n",
      "Using PrefixPair: 'TACACTCTTTCCCTACACGACGCTCTTCCGATCT' and 'GTGACTGGAGTTCAGACGTGTGCTCTTCCGATCT'\n",
      "ILLUMINACLIP: Using 1 prefix pairs, 0 forward/reverse sequences, 0 forward only sequences, 0 reverse only sequences\n",
      "Quality encoding detected as phred33\n",
      "Input Read Pairs: 22759949 Both Surviving: 20199517 (88.75%) Forward Only Surviving: 1896475 (8.33%) Reverse Only Surviving: 293494 (1.29%) Dropped: 370463 (1.63%)\n",
      "TrimmomaticPE: Completed successfully\n",
      "Started analysis of SRR8437485_1.trimmed.fastq.gz\n"
     ]
    },
    {
     "name": "stdout",
     "output_type": "stream",
     "text": [
      "Trimming complete. Trimmed files: RNA_seq_workflow/output/2_trimmed_output/SRR8437485_1.trimmed.fastq.gz, RNA_seq_workflow/output/2_trimmed_output/SRR8437485_2.trimmed.fastq.gz\n",
      "Running FastQC on RNA_seq_workflow/output/2_trimmed_output/SRR8437485_1.trimmed.fastq.gz...\n",
      "application/gzip\n"
     ]
    },
    {
     "name": "stderr",
     "output_type": "stream",
     "text": [
      "Approx 5% complete for SRR8437485_1.trimmed.fastq.gz\n",
      "Approx 10% complete for SRR8437485_1.trimmed.fastq.gz\n",
      "Approx 15% complete for SRR8437485_1.trimmed.fastq.gz\n",
      "Approx 20% complete for SRR8437485_1.trimmed.fastq.gz\n",
      "Approx 25% complete for SRR8437485_1.trimmed.fastq.gz\n",
      "Approx 30% complete for SRR8437485_1.trimmed.fastq.gz\n",
      "Approx 35% complete for SRR8437485_1.trimmed.fastq.gz\n",
      "Approx 40% complete for SRR8437485_1.trimmed.fastq.gz\n",
      "Approx 45% complete for SRR8437485_1.trimmed.fastq.gz\n",
      "Approx 50% complete for SRR8437485_1.trimmed.fastq.gz\n",
      "Approx 55% complete for SRR8437485_1.trimmed.fastq.gz\n",
      "Approx 60% complete for SRR8437485_1.trimmed.fastq.gz\n",
      "Approx 65% complete for SRR8437485_1.trimmed.fastq.gz\n",
      "Approx 70% complete for SRR8437485_1.trimmed.fastq.gz\n",
      "Approx 75% complete for SRR8437485_1.trimmed.fastq.gz\n",
      "Approx 80% complete for SRR8437485_1.trimmed.fastq.gz\n",
      "Approx 85% complete for SRR8437485_1.trimmed.fastq.gz\n",
      "Approx 90% complete for SRR8437485_1.trimmed.fastq.gz\n",
      "Approx 95% complete for SRR8437485_1.trimmed.fastq.gz\n"
     ]
    },
    {
     "name": "stdout",
     "output_type": "stream",
     "text": [
      "Analysis complete for SRR8437485_1.trimmed.fastq.gz\n",
      "FastQC complete for RNA_seq_workflow/output/2_trimmed_output/SRR8437485_1.trimmed.fastq.gz. Reports saved in RNA_seq_workflow/output/1_initial_qc\n",
      "Running FastQC on RNA_seq_workflow/output/2_trimmed_output/SRR8437485_2.trimmed.fastq.gz...\n",
      "application/gzip\n"
     ]
    },
    {
     "name": "stderr",
     "output_type": "stream",
     "text": [
      "Started analysis of SRR8437485_2.trimmed.fastq.gz\n",
      "Approx 5% complete for SRR8437485_2.trimmed.fastq.gz\n",
      "Approx 10% complete for SRR8437485_2.trimmed.fastq.gz\n",
      "Approx 15% complete for SRR8437485_2.trimmed.fastq.gz\n",
      "Approx 20% complete for SRR8437485_2.trimmed.fastq.gz\n",
      "Approx 25% complete for SRR8437485_2.trimmed.fastq.gz\n",
      "Approx 30% complete for SRR8437485_2.trimmed.fastq.gz\n",
      "Approx 35% complete for SRR8437485_2.trimmed.fastq.gz\n",
      "Approx 40% complete for SRR8437485_2.trimmed.fastq.gz\n",
      "Approx 45% complete for SRR8437485_2.trimmed.fastq.gz\n",
      "Approx 50% complete for SRR8437485_2.trimmed.fastq.gz\n",
      "Approx 55% complete for SRR8437485_2.trimmed.fastq.gz\n",
      "Approx 60% complete for SRR8437485_2.trimmed.fastq.gz\n",
      "Approx 65% complete for SRR8437485_2.trimmed.fastq.gz\n",
      "Approx 70% complete for SRR8437485_2.trimmed.fastq.gz\n",
      "Approx 75% complete for SRR8437485_2.trimmed.fastq.gz\n",
      "Approx 80% complete for SRR8437485_2.trimmed.fastq.gz\n",
      "Approx 85% complete for SRR8437485_2.trimmed.fastq.gz\n",
      "Approx 90% complete for SRR8437485_2.trimmed.fastq.gz\n",
      "Approx 95% complete for SRR8437485_2.trimmed.fastq.gz\n"
     ]
    },
    {
     "name": "stdout",
     "output_type": "stream",
     "text": [
      "Analysis complete for SRR8437485_2.trimmed.fastq.gz\n",
      "FastQC complete for RNA_seq_workflow/output/2_trimmed_output/SRR8437485_2.trimmed.fastq.gz. Reports saved in RNA_seq_workflow/output/1_initial_qc\n",
      "Running FastQC on RNA_seq_workflow/input/SRR8437482_1.fastq.gz...\n",
      "application/gzip\n"
     ]
    },
    {
     "name": "stderr",
     "output_type": "stream",
     "text": [
      "Started analysis of SRR8437482_1.fastq.gz\n",
      "Approx 5% complete for SRR8437482_1.fastq.gz\n",
      "Approx 10% complete for SRR8437482_1.fastq.gz\n",
      "Approx 15% complete for SRR8437482_1.fastq.gz\n",
      "Approx 20% complete for SRR8437482_1.fastq.gz\n",
      "Approx 25% complete for SRR8437482_1.fastq.gz\n",
      "Approx 30% complete for SRR8437482_1.fastq.gz\n",
      "Approx 35% complete for SRR8437482_1.fastq.gz\n",
      "Approx 40% complete for SRR8437482_1.fastq.gz\n",
      "Approx 45% complete for SRR8437482_1.fastq.gz\n",
      "Approx 50% complete for SRR8437482_1.fastq.gz\n",
      "Approx 55% complete for SRR8437482_1.fastq.gz\n",
      "Approx 60% complete for SRR8437482_1.fastq.gz\n",
      "Approx 65% complete for SRR8437482_1.fastq.gz\n",
      "Approx 70% complete for SRR8437482_1.fastq.gz\n",
      "Approx 75% complete for SRR8437482_1.fastq.gz\n",
      "Approx 80% complete for SRR8437482_1.fastq.gz\n",
      "Approx 85% complete for SRR8437482_1.fastq.gz\n",
      "Approx 90% complete for SRR8437482_1.fastq.gz\n",
      "Approx 95% complete for SRR8437482_1.fastq.gz\n"
     ]
    },
    {
     "name": "stdout",
     "output_type": "stream",
     "text": [
      "Analysis complete for SRR8437482_1.fastq.gz\n",
      "FastQC complete for RNA_seq_workflow/input/SRR8437482_1.fastq.gz. Reports saved in RNA_seq_workflow/output/1_initial_qc\n",
      "Running FastQC on RNA_seq_workflow/input/SRR8437482_2.fastq.gz...\n",
      "application/gzip\n"
     ]
    },
    {
     "name": "stderr",
     "output_type": "stream",
     "text": [
      "Started analysis of SRR8437482_2.fastq.gz\n",
      "Approx 5% complete for SRR8437482_2.fastq.gz\n",
      "Approx 10% complete for SRR8437482_2.fastq.gz\n",
      "Approx 15% complete for SRR8437482_2.fastq.gz\n",
      "Approx 20% complete for SRR8437482_2.fastq.gz\n",
      "Approx 25% complete for SRR8437482_2.fastq.gz\n",
      "Approx 30% complete for SRR8437482_2.fastq.gz\n",
      "Approx 35% complete for SRR8437482_2.fastq.gz\n",
      "Approx 40% complete for SRR8437482_2.fastq.gz\n",
      "Approx 45% complete for SRR8437482_2.fastq.gz\n",
      "Approx 50% complete for SRR8437482_2.fastq.gz\n",
      "Approx 55% complete for SRR8437482_2.fastq.gz\n",
      "Approx 60% complete for SRR8437482_2.fastq.gz\n",
      "Approx 65% complete for SRR8437482_2.fastq.gz\n",
      "Approx 70% complete for SRR8437482_2.fastq.gz\n",
      "Approx 75% complete for SRR8437482_2.fastq.gz\n",
      "Approx 80% complete for SRR8437482_2.fastq.gz\n",
      "Approx 85% complete for SRR8437482_2.fastq.gz\n",
      "Approx 90% complete for SRR8437482_2.fastq.gz\n",
      "Approx 95% complete for SRR8437482_2.fastq.gz\n"
     ]
    },
    {
     "name": "stdout",
     "output_type": "stream",
     "text": [
      "Analysis complete for SRR8437482_2.fastq.gz\n",
      "FastQC complete for RNA_seq_workflow/input/SRR8437482_2.fastq.gz. Reports saved in RNA_seq_workflow/output/1_initial_qc\n",
      "Trimming reads: RNA_seq_workflow/input/SRR8437482_1.fastq.gz and RNA_seq_workflow/input/SRR8437482_2.fastq.gz using adapters from RNA_seq_workflow/adapters/TruSeq3-PE.fa\n"
     ]
    },
    {
     "name": "stderr",
     "output_type": "stream",
     "text": [
      "TrimmomaticPE: Started with arguments:\n",
      " -threads 8 RNA_seq_workflow/input/SRR8437482_1.fastq.gz RNA_seq_workflow/input/SRR8437482_2.fastq.gz RNA_seq_workflow/output/2_trimmed_output/SRR8437482_1.trimmed.fastq.gz unpaired_1.fastq.gz RNA_seq_workflow/output/2_trimmed_output/SRR8437482_2.trimmed.fastq.gz unpaired_2.fastq.gz ILLUMINACLIP:RNA_seq_workflow/adapters/TruSeq3-PE.fa:2:30:10 LEADING:3 TRAILING:3 SLIDINGWINDOW:4:20 MINLEN:50\n",
      "Using PrefixPair: 'TACACTCTTTCCCTACACGACGCTCTTCCGATCT' and 'GTGACTGGAGTTCAGACGTGTGCTCTTCCGATCT'\n",
      "ILLUMINACLIP: Using 1 prefix pairs, 0 forward/reverse sequences, 0 forward only sequences, 0 reverse only sequences\n",
      "Quality encoding detected as phred33\n",
      "Input Read Pairs: 29462794 Both Surviving: 25824523 (87.65%) Forward Only Surviving: 2770787 (9.40%) Reverse Only Surviving: 317255 (1.08%) Dropped: 550229 (1.87%)\n",
      "TrimmomaticPE: Completed successfully\n",
      "Started analysis of SRR8437482_1.trimmed.fastq.gz\n"
     ]
    },
    {
     "name": "stdout",
     "output_type": "stream",
     "text": [
      "Trimming complete. Trimmed files: RNA_seq_workflow/output/2_trimmed_output/SRR8437482_1.trimmed.fastq.gz, RNA_seq_workflow/output/2_trimmed_output/SRR8437482_2.trimmed.fastq.gz\n",
      "Running FastQC on RNA_seq_workflow/output/2_trimmed_output/SRR8437482_1.trimmed.fastq.gz...\n",
      "application/gzip\n"
     ]
    },
    {
     "name": "stderr",
     "output_type": "stream",
     "text": [
      "Approx 5% complete for SRR8437482_1.trimmed.fastq.gz\n",
      "Approx 10% complete for SRR8437482_1.trimmed.fastq.gz\n",
      "Approx 15% complete for SRR8437482_1.trimmed.fastq.gz\n",
      "Approx 20% complete for SRR8437482_1.trimmed.fastq.gz\n",
      "Approx 25% complete for SRR8437482_1.trimmed.fastq.gz\n",
      "Approx 30% complete for SRR8437482_1.trimmed.fastq.gz\n",
      "Approx 35% complete for SRR8437482_1.trimmed.fastq.gz\n",
      "Approx 40% complete for SRR8437482_1.trimmed.fastq.gz\n",
      "Approx 45% complete for SRR8437482_1.trimmed.fastq.gz\n",
      "Approx 50% complete for SRR8437482_1.trimmed.fastq.gz\n",
      "Approx 55% complete for SRR8437482_1.trimmed.fastq.gz\n",
      "Approx 60% complete for SRR8437482_1.trimmed.fastq.gz\n",
      "Approx 65% complete for SRR8437482_1.trimmed.fastq.gz\n",
      "Approx 70% complete for SRR8437482_1.trimmed.fastq.gz\n",
      "Approx 75% complete for SRR8437482_1.trimmed.fastq.gz\n",
      "Approx 80% complete for SRR8437482_1.trimmed.fastq.gz\n",
      "Approx 85% complete for SRR8437482_1.trimmed.fastq.gz\n",
      "Approx 90% complete for SRR8437482_1.trimmed.fastq.gz\n",
      "Approx 95% complete for SRR8437482_1.trimmed.fastq.gz\n"
     ]
    },
    {
     "name": "stdout",
     "output_type": "stream",
     "text": [
      "Analysis complete for SRR8437482_1.trimmed.fastq.gz\n",
      "FastQC complete for RNA_seq_workflow/output/2_trimmed_output/SRR8437482_1.trimmed.fastq.gz. Reports saved in RNA_seq_workflow/output/1_initial_qc\n",
      "Running FastQC on RNA_seq_workflow/output/2_trimmed_output/SRR8437482_2.trimmed.fastq.gz...\n",
      "application/gzip\n"
     ]
    },
    {
     "name": "stderr",
     "output_type": "stream",
     "text": [
      "Started analysis of SRR8437482_2.trimmed.fastq.gz\n",
      "Approx 5% complete for SRR8437482_2.trimmed.fastq.gz\n",
      "Approx 10% complete for SRR8437482_2.trimmed.fastq.gz\n",
      "Approx 15% complete for SRR8437482_2.trimmed.fastq.gz\n",
      "Approx 20% complete for SRR8437482_2.trimmed.fastq.gz\n",
      "Approx 25% complete for SRR8437482_2.trimmed.fastq.gz\n",
      "Approx 30% complete for SRR8437482_2.trimmed.fastq.gz\n",
      "Approx 35% complete for SRR8437482_2.trimmed.fastq.gz\n",
      "Approx 40% complete for SRR8437482_2.trimmed.fastq.gz\n",
      "Approx 45% complete for SRR8437482_2.trimmed.fastq.gz\n",
      "Approx 50% complete for SRR8437482_2.trimmed.fastq.gz\n",
      "Approx 55% complete for SRR8437482_2.trimmed.fastq.gz\n",
      "Approx 60% complete for SRR8437482_2.trimmed.fastq.gz\n",
      "Approx 65% complete for SRR8437482_2.trimmed.fastq.gz\n",
      "Approx 70% complete for SRR8437482_2.trimmed.fastq.gz\n",
      "Approx 75% complete for SRR8437482_2.trimmed.fastq.gz\n",
      "Approx 80% complete for SRR8437482_2.trimmed.fastq.gz\n",
      "Approx 85% complete for SRR8437482_2.trimmed.fastq.gz\n",
      "Approx 90% complete for SRR8437482_2.trimmed.fastq.gz\n",
      "Approx 95% complete for SRR8437482_2.trimmed.fastq.gz\n"
     ]
    },
    {
     "name": "stdout",
     "output_type": "stream",
     "text": [
      "Analysis complete for SRR8437482_2.trimmed.fastq.gz\n",
      "FastQC complete for RNA_seq_workflow/output/2_trimmed_output/SRR8437482_2.trimmed.fastq.gz. Reports saved in RNA_seq_workflow/output/1_initial_qc\n",
      "Running FastQC on RNA_seq_workflow/input/SRR8437483_1.fastq.gz...\n",
      "application/gzip\n"
     ]
    },
    {
     "name": "stderr",
     "output_type": "stream",
     "text": [
      "Started analysis of SRR8437483_1.fastq.gz\n",
      "Approx 5% complete for SRR8437483_1.fastq.gz\n",
      "Approx 10% complete for SRR8437483_1.fastq.gz\n",
      "Approx 15% complete for SRR8437483_1.fastq.gz\n",
      "Approx 20% complete for SRR8437483_1.fastq.gz\n",
      "Approx 25% complete for SRR8437483_1.fastq.gz\n",
      "Approx 30% complete for SRR8437483_1.fastq.gz\n",
      "Approx 35% complete for SRR8437483_1.fastq.gz\n",
      "Approx 40% complete for SRR8437483_1.fastq.gz\n",
      "Approx 45% complete for SRR8437483_1.fastq.gz\n",
      "Approx 50% complete for SRR8437483_1.fastq.gz\n",
      "Approx 55% complete for SRR8437483_1.fastq.gz\n",
      "Approx 60% complete for SRR8437483_1.fastq.gz\n",
      "Approx 65% complete for SRR8437483_1.fastq.gz\n",
      "Approx 70% complete for SRR8437483_1.fastq.gz\n",
      "Approx 75% complete for SRR8437483_1.fastq.gz\n",
      "Approx 80% complete for SRR8437483_1.fastq.gz\n",
      "Approx 85% complete for SRR8437483_1.fastq.gz\n",
      "Approx 90% complete for SRR8437483_1.fastq.gz\n",
      "Approx 95% complete for SRR8437483_1.fastq.gz\n"
     ]
    },
    {
     "name": "stdout",
     "output_type": "stream",
     "text": [
      "Analysis complete for SRR8437483_1.fastq.gz\n",
      "FastQC complete for RNA_seq_workflow/input/SRR8437483_1.fastq.gz. Reports saved in RNA_seq_workflow/output/1_initial_qc\n",
      "Running FastQC on RNA_seq_workflow/input/SRR8437483_2.fastq.gz...\n",
      "application/gzip\n"
     ]
    },
    {
     "name": "stderr",
     "output_type": "stream",
     "text": [
      "Started analysis of SRR8437483_2.fastq.gz\n",
      "Approx 5% complete for SRR8437483_2.fastq.gz\n",
      "Approx 10% complete for SRR8437483_2.fastq.gz\n",
      "Approx 15% complete for SRR8437483_2.fastq.gz\n",
      "Approx 20% complete for SRR8437483_2.fastq.gz\n",
      "Approx 25% complete for SRR8437483_2.fastq.gz\n",
      "Approx 30% complete for SRR8437483_2.fastq.gz\n",
      "Approx 35% complete for SRR8437483_2.fastq.gz\n",
      "Approx 40% complete for SRR8437483_2.fastq.gz\n",
      "Approx 45% complete for SRR8437483_2.fastq.gz\n",
      "Approx 50% complete for SRR8437483_2.fastq.gz\n",
      "Approx 55% complete for SRR8437483_2.fastq.gz\n",
      "Approx 60% complete for SRR8437483_2.fastq.gz\n",
      "Approx 65% complete for SRR8437483_2.fastq.gz\n",
      "Approx 70% complete for SRR8437483_2.fastq.gz\n",
      "Approx 75% complete for SRR8437483_2.fastq.gz\n",
      "Approx 80% complete for SRR8437483_2.fastq.gz\n",
      "Approx 85% complete for SRR8437483_2.fastq.gz\n",
      "Approx 90% complete for SRR8437483_2.fastq.gz\n",
      "Approx 95% complete for SRR8437483_2.fastq.gz\n"
     ]
    },
    {
     "name": "stdout",
     "output_type": "stream",
     "text": [
      "Analysis complete for SRR8437483_2.fastq.gz\n",
      "FastQC complete for RNA_seq_workflow/input/SRR8437483_2.fastq.gz. Reports saved in RNA_seq_workflow/output/1_initial_qc\n",
      "Trimming reads: RNA_seq_workflow/input/SRR8437483_1.fastq.gz and RNA_seq_workflow/input/SRR8437483_2.fastq.gz using adapters from RNA_seq_workflow/adapters/TruSeq3-PE.fa\n"
     ]
    },
    {
     "name": "stderr",
     "output_type": "stream",
     "text": [
      "TrimmomaticPE: Started with arguments:\n",
      " -threads 8 RNA_seq_workflow/input/SRR8437483_1.fastq.gz RNA_seq_workflow/input/SRR8437483_2.fastq.gz RNA_seq_workflow/output/2_trimmed_output/SRR8437483_1.trimmed.fastq.gz unpaired_1.fastq.gz RNA_seq_workflow/output/2_trimmed_output/SRR8437483_2.trimmed.fastq.gz unpaired_2.fastq.gz ILLUMINACLIP:RNA_seq_workflow/adapters/TruSeq3-PE.fa:2:30:10 LEADING:3 TRAILING:3 SLIDINGWINDOW:4:20 MINLEN:50\n",
      "Using PrefixPair: 'TACACTCTTTCCCTACACGACGCTCTTCCGATCT' and 'GTGACTGGAGTTCAGACGTGTGCTCTTCCGATCT'\n",
      "ILLUMINACLIP: Using 1 prefix pairs, 0 forward/reverse sequences, 0 forward only sequences, 0 reverse only sequences\n",
      "Quality encoding detected as phred33\n",
      "Input Read Pairs: 21815089 Both Surviving: 19203613 (88.03%) Forward Only Surviving: 1948496 (8.93%) Reverse Only Surviving: 259321 (1.19%) Dropped: 403659 (1.85%)\n",
      "TrimmomaticPE: Completed successfully\n",
      "Started analysis of SRR8437483_1.trimmed.fastq.gz\n"
     ]
    },
    {
     "name": "stdout",
     "output_type": "stream",
     "text": [
      "Trimming complete. Trimmed files: RNA_seq_workflow/output/2_trimmed_output/SRR8437483_1.trimmed.fastq.gz, RNA_seq_workflow/output/2_trimmed_output/SRR8437483_2.trimmed.fastq.gz\n",
      "Running FastQC on RNA_seq_workflow/output/2_trimmed_output/SRR8437483_1.trimmed.fastq.gz...\n",
      "application/gzip\n"
     ]
    },
    {
     "name": "stderr",
     "output_type": "stream",
     "text": [
      "Approx 5% complete for SRR8437483_1.trimmed.fastq.gz\n",
      "Approx 10% complete for SRR8437483_1.trimmed.fastq.gz\n",
      "Approx 15% complete for SRR8437483_1.trimmed.fastq.gz\n",
      "Approx 20% complete for SRR8437483_1.trimmed.fastq.gz\n",
      "Approx 25% complete for SRR8437483_1.trimmed.fastq.gz\n",
      "Approx 30% complete for SRR8437483_1.trimmed.fastq.gz\n",
      "Approx 35% complete for SRR8437483_1.trimmed.fastq.gz\n",
      "Approx 40% complete for SRR8437483_1.trimmed.fastq.gz\n",
      "Approx 45% complete for SRR8437483_1.trimmed.fastq.gz\n",
      "Approx 50% complete for SRR8437483_1.trimmed.fastq.gz\n",
      "Approx 55% complete for SRR8437483_1.trimmed.fastq.gz\n",
      "Approx 60% complete for SRR8437483_1.trimmed.fastq.gz\n",
      "Approx 65% complete for SRR8437483_1.trimmed.fastq.gz\n",
      "Approx 70% complete for SRR8437483_1.trimmed.fastq.gz\n",
      "Approx 75% complete for SRR8437483_1.trimmed.fastq.gz\n",
      "Approx 80% complete for SRR8437483_1.trimmed.fastq.gz\n",
      "Approx 85% complete for SRR8437483_1.trimmed.fastq.gz\n",
      "Approx 90% complete for SRR8437483_1.trimmed.fastq.gz\n",
      "Approx 95% complete for SRR8437483_1.trimmed.fastq.gz\n"
     ]
    },
    {
     "name": "stdout",
     "output_type": "stream",
     "text": [
      "Analysis complete for SRR8437483_1.trimmed.fastq.gz\n",
      "FastQC complete for RNA_seq_workflow/output/2_trimmed_output/SRR8437483_1.trimmed.fastq.gz. Reports saved in RNA_seq_workflow/output/1_initial_qc\n",
      "Running FastQC on RNA_seq_workflow/output/2_trimmed_output/SRR8437483_2.trimmed.fastq.gz...\n",
      "application/gzip\n"
     ]
    },
    {
     "name": "stderr",
     "output_type": "stream",
     "text": [
      "Started analysis of SRR8437483_2.trimmed.fastq.gz\n",
      "Approx 5% complete for SRR8437483_2.trimmed.fastq.gz\n",
      "Approx 10% complete for SRR8437483_2.trimmed.fastq.gz\n",
      "Approx 15% complete for SRR8437483_2.trimmed.fastq.gz\n",
      "Approx 20% complete for SRR8437483_2.trimmed.fastq.gz\n",
      "Approx 25% complete for SRR8437483_2.trimmed.fastq.gz\n",
      "Approx 30% complete for SRR8437483_2.trimmed.fastq.gz\n",
      "Approx 35% complete for SRR8437483_2.trimmed.fastq.gz\n",
      "Approx 40% complete for SRR8437483_2.trimmed.fastq.gz\n",
      "Approx 45% complete for SRR8437483_2.trimmed.fastq.gz\n",
      "Approx 50% complete for SRR8437483_2.trimmed.fastq.gz\n",
      "Approx 55% complete for SRR8437483_2.trimmed.fastq.gz\n",
      "Approx 60% complete for SRR8437483_2.trimmed.fastq.gz\n",
      "Approx 65% complete for SRR8437483_2.trimmed.fastq.gz\n",
      "Approx 70% complete for SRR8437483_2.trimmed.fastq.gz\n",
      "Approx 75% complete for SRR8437483_2.trimmed.fastq.gz\n",
      "Approx 80% complete for SRR8437483_2.trimmed.fastq.gz\n",
      "Approx 85% complete for SRR8437483_2.trimmed.fastq.gz\n",
      "Approx 90% complete for SRR8437483_2.trimmed.fastq.gz\n",
      "Approx 95% complete for SRR8437483_2.trimmed.fastq.gz\n"
     ]
    },
    {
     "name": "stdout",
     "output_type": "stream",
     "text": [
      "Analysis complete for SRR8437483_2.trimmed.fastq.gz\n",
      "FastQC complete for RNA_seq_workflow/output/2_trimmed_output/SRR8437483_2.trimmed.fastq.gz. Reports saved in RNA_seq_workflow/output/1_initial_qc\n",
      "Running FastQC on RNA_seq_workflow/input/SRR8437480_1.fastq.gz...\n",
      "application/gzip\n"
     ]
    },
    {
     "name": "stderr",
     "output_type": "stream",
     "text": [
      "Started analysis of SRR8437480_1.fastq.gz\n",
      "Approx 5% complete for SRR8437480_1.fastq.gz\n",
      "Approx 10% complete for SRR8437480_1.fastq.gz\n",
      "Approx 15% complete for SRR8437480_1.fastq.gz\n",
      "Approx 20% complete for SRR8437480_1.fastq.gz\n",
      "Approx 25% complete for SRR8437480_1.fastq.gz\n",
      "Approx 30% complete for SRR8437480_1.fastq.gz\n",
      "Approx 35% complete for SRR8437480_1.fastq.gz\n",
      "Approx 40% complete for SRR8437480_1.fastq.gz\n",
      "Approx 45% complete for SRR8437480_1.fastq.gz\n",
      "Approx 50% complete for SRR8437480_1.fastq.gz\n",
      "Approx 55% complete for SRR8437480_1.fastq.gz\n",
      "Approx 60% complete for SRR8437480_1.fastq.gz\n",
      "Approx 65% complete for SRR8437480_1.fastq.gz\n",
      "Approx 70% complete for SRR8437480_1.fastq.gz\n",
      "Approx 75% complete for SRR8437480_1.fastq.gz\n",
      "Approx 80% complete for SRR8437480_1.fastq.gz\n",
      "Approx 85% complete for SRR8437480_1.fastq.gz\n",
      "Approx 90% complete for SRR8437480_1.fastq.gz\n",
      "Approx 95% complete for SRR8437480_1.fastq.gz\n"
     ]
    },
    {
     "name": "stdout",
     "output_type": "stream",
     "text": [
      "Analysis complete for SRR8437480_1.fastq.gz\n",
      "FastQC complete for RNA_seq_workflow/input/SRR8437480_1.fastq.gz. Reports saved in RNA_seq_workflow/output/1_initial_qc\n",
      "Running FastQC on RNA_seq_workflow/input/SRR8437480_2.fastq.gz...\n",
      "application/gzip\n"
     ]
    },
    {
     "name": "stderr",
     "output_type": "stream",
     "text": [
      "Started analysis of SRR8437480_2.fastq.gz\n",
      "Approx 5% complete for SRR8437480_2.fastq.gz\n",
      "Approx 10% complete for SRR8437480_2.fastq.gz\n",
      "Approx 15% complete for SRR8437480_2.fastq.gz\n",
      "Approx 20% complete for SRR8437480_2.fastq.gz\n",
      "Approx 25% complete for SRR8437480_2.fastq.gz\n",
      "Approx 30% complete for SRR8437480_2.fastq.gz\n",
      "Approx 35% complete for SRR8437480_2.fastq.gz\n",
      "Approx 40% complete for SRR8437480_2.fastq.gz\n",
      "Approx 45% complete for SRR8437480_2.fastq.gz\n",
      "Approx 50% complete for SRR8437480_2.fastq.gz\n",
      "Approx 55% complete for SRR8437480_2.fastq.gz\n",
      "Approx 60% complete for SRR8437480_2.fastq.gz\n",
      "Approx 65% complete for SRR8437480_2.fastq.gz\n",
      "Approx 70% complete for SRR8437480_2.fastq.gz\n",
      "Approx 75% complete for SRR8437480_2.fastq.gz\n",
      "Approx 80% complete for SRR8437480_2.fastq.gz\n",
      "Approx 85% complete for SRR8437480_2.fastq.gz\n",
      "Approx 90% complete for SRR8437480_2.fastq.gz\n",
      "Approx 95% complete for SRR8437480_2.fastq.gz\n"
     ]
    },
    {
     "name": "stdout",
     "output_type": "stream",
     "text": [
      "Analysis complete for SRR8437480_2.fastq.gz\n",
      "FastQC complete for RNA_seq_workflow/input/SRR8437480_2.fastq.gz. Reports saved in RNA_seq_workflow/output/1_initial_qc\n",
      "Trimming reads: RNA_seq_workflow/input/SRR8437480_1.fastq.gz and RNA_seq_workflow/input/SRR8437480_2.fastq.gz using adapters from RNA_seq_workflow/adapters/TruSeq3-PE.fa\n"
     ]
    },
    {
     "name": "stderr",
     "output_type": "stream",
     "text": [
      "TrimmomaticPE: Started with arguments:\n",
      " -threads 8 RNA_seq_workflow/input/SRR8437480_1.fastq.gz RNA_seq_workflow/input/SRR8437480_2.fastq.gz RNA_seq_workflow/output/2_trimmed_output/SRR8437480_1.trimmed.fastq.gz unpaired_1.fastq.gz RNA_seq_workflow/output/2_trimmed_output/SRR8437480_2.trimmed.fastq.gz unpaired_2.fastq.gz ILLUMINACLIP:RNA_seq_workflow/adapters/TruSeq3-PE.fa:2:30:10 LEADING:3 TRAILING:3 SLIDINGWINDOW:4:20 MINLEN:50\n",
      "Using PrefixPair: 'TACACTCTTTCCCTACACGACGCTCTTCCGATCT' and 'GTGACTGGAGTTCAGACGTGTGCTCTTCCGATCT'\n",
      "ILLUMINACLIP: Using 1 prefix pairs, 0 forward/reverse sequences, 0 forward only sequences, 0 reverse only sequences\n",
      "Quality encoding detected as phred33\n",
      "Input Read Pairs: 22080043 Both Surviving: 18380335 (83.24%) Forward Only Surviving: 2623619 (11.88%) Reverse Only Surviving: 464017 (2.10%) Dropped: 612072 (2.77%)\n",
      "TrimmomaticPE: Completed successfully\n",
      "Started analysis of SRR8437480_1.trimmed.fastq.gz\n"
     ]
    },
    {
     "name": "stdout",
     "output_type": "stream",
     "text": [
      "Trimming complete. Trimmed files: RNA_seq_workflow/output/2_trimmed_output/SRR8437480_1.trimmed.fastq.gz, RNA_seq_workflow/output/2_trimmed_output/SRR8437480_2.trimmed.fastq.gz\n",
      "Running FastQC on RNA_seq_workflow/output/2_trimmed_output/SRR8437480_1.trimmed.fastq.gz...\n",
      "application/gzip\n"
     ]
    },
    {
     "name": "stderr",
     "output_type": "stream",
     "text": [
      "Approx 5% complete for SRR8437480_1.trimmed.fastq.gz\n",
      "Approx 10% complete for SRR8437480_1.trimmed.fastq.gz\n",
      "Approx 15% complete for SRR8437480_1.trimmed.fastq.gz\n",
      "Approx 20% complete for SRR8437480_1.trimmed.fastq.gz\n",
      "Approx 25% complete for SRR8437480_1.trimmed.fastq.gz\n",
      "Approx 30% complete for SRR8437480_1.trimmed.fastq.gz\n",
      "Approx 35% complete for SRR8437480_1.trimmed.fastq.gz\n",
      "Approx 40% complete for SRR8437480_1.trimmed.fastq.gz\n",
      "Approx 45% complete for SRR8437480_1.trimmed.fastq.gz\n",
      "Approx 50% complete for SRR8437480_1.trimmed.fastq.gz\n",
      "Approx 55% complete for SRR8437480_1.trimmed.fastq.gz\n",
      "Approx 60% complete for SRR8437480_1.trimmed.fastq.gz\n",
      "Approx 65% complete for SRR8437480_1.trimmed.fastq.gz\n",
      "Approx 70% complete for SRR8437480_1.trimmed.fastq.gz\n",
      "Approx 75% complete for SRR8437480_1.trimmed.fastq.gz\n",
      "Approx 80% complete for SRR8437480_1.trimmed.fastq.gz\n",
      "Approx 85% complete for SRR8437480_1.trimmed.fastq.gz\n",
      "Approx 90% complete for SRR8437480_1.trimmed.fastq.gz\n",
      "Approx 95% complete for SRR8437480_1.trimmed.fastq.gz\n"
     ]
    },
    {
     "name": "stdout",
     "output_type": "stream",
     "text": [
      "Analysis complete for SRR8437480_1.trimmed.fastq.gz\n",
      "FastQC complete for RNA_seq_workflow/output/2_trimmed_output/SRR8437480_1.trimmed.fastq.gz. Reports saved in RNA_seq_workflow/output/1_initial_qc\n",
      "Running FastQC on RNA_seq_workflow/output/2_trimmed_output/SRR8437480_2.trimmed.fastq.gz...\n",
      "application/gzip\n"
     ]
    },
    {
     "name": "stderr",
     "output_type": "stream",
     "text": [
      "Started analysis of SRR8437480_2.trimmed.fastq.gz\n",
      "Approx 5% complete for SRR8437480_2.trimmed.fastq.gz\n",
      "Approx 10% complete for SRR8437480_2.trimmed.fastq.gz\n",
      "Approx 15% complete for SRR8437480_2.trimmed.fastq.gz\n",
      "Approx 20% complete for SRR8437480_2.trimmed.fastq.gz\n",
      "Approx 25% complete for SRR8437480_2.trimmed.fastq.gz\n",
      "Approx 30% complete for SRR8437480_2.trimmed.fastq.gz\n",
      "Approx 35% complete for SRR8437480_2.trimmed.fastq.gz\n",
      "Approx 40% complete for SRR8437480_2.trimmed.fastq.gz\n",
      "Approx 45% complete for SRR8437480_2.trimmed.fastq.gz\n",
      "Approx 50% complete for SRR8437480_2.trimmed.fastq.gz\n",
      "Approx 55% complete for SRR8437480_2.trimmed.fastq.gz\n",
      "Approx 60% complete for SRR8437480_2.trimmed.fastq.gz\n",
      "Approx 65% complete for SRR8437480_2.trimmed.fastq.gz\n",
      "Approx 70% complete for SRR8437480_2.trimmed.fastq.gz\n",
      "Approx 75% complete for SRR8437480_2.trimmed.fastq.gz\n",
      "Approx 80% complete for SRR8437480_2.trimmed.fastq.gz\n",
      "Approx 85% complete for SRR8437480_2.trimmed.fastq.gz\n",
      "Approx 90% complete for SRR8437480_2.trimmed.fastq.gz\n",
      "Approx 95% complete for SRR8437480_2.trimmed.fastq.gz\n"
     ]
    },
    {
     "name": "stdout",
     "output_type": "stream",
     "text": [
      "Analysis complete for SRR8437480_2.trimmed.fastq.gz\n",
      "FastQC complete for RNA_seq_workflow/output/2_trimmed_output/SRR8437480_2.trimmed.fastq.gz. Reports saved in RNA_seq_workflow/output/1_initial_qc\n",
      "Running FastQC on RNA_seq_workflow/input/SRR8437481_1.fastq.gz...\n",
      "application/gzip\n"
     ]
    },
    {
     "name": "stderr",
     "output_type": "stream",
     "text": [
      "Started analysis of SRR8437481_1.fastq.gz\n",
      "Approx 5% complete for SRR8437481_1.fastq.gz\n",
      "Approx 10% complete for SRR8437481_1.fastq.gz\n",
      "Approx 15% complete for SRR8437481_1.fastq.gz\n",
      "Approx 20% complete for SRR8437481_1.fastq.gz\n",
      "Approx 25% complete for SRR8437481_1.fastq.gz\n",
      "Approx 30% complete for SRR8437481_1.fastq.gz\n",
      "Approx 35% complete for SRR8437481_1.fastq.gz\n",
      "Approx 40% complete for SRR8437481_1.fastq.gz\n",
      "Approx 45% complete for SRR8437481_1.fastq.gz\n",
      "Approx 50% complete for SRR8437481_1.fastq.gz\n",
      "Approx 55% complete for SRR8437481_1.fastq.gz\n",
      "Approx 60% complete for SRR8437481_1.fastq.gz\n",
      "Approx 65% complete for SRR8437481_1.fastq.gz\n",
      "Approx 70% complete for SRR8437481_1.fastq.gz\n",
      "Approx 75% complete for SRR8437481_1.fastq.gz\n",
      "Approx 80% complete for SRR8437481_1.fastq.gz\n",
      "Approx 85% complete for SRR8437481_1.fastq.gz\n",
      "Approx 90% complete for SRR8437481_1.fastq.gz\n",
      "Approx 95% complete for SRR8437481_1.fastq.gz\n"
     ]
    },
    {
     "name": "stdout",
     "output_type": "stream",
     "text": [
      "Analysis complete for SRR8437481_1.fastq.gz\n",
      "FastQC complete for RNA_seq_workflow/input/SRR8437481_1.fastq.gz. Reports saved in RNA_seq_workflow/output/1_initial_qc\n",
      "Running FastQC on RNA_seq_workflow/input/SRR8437481_2.fastq.gz...\n",
      "application/gzip\n"
     ]
    },
    {
     "name": "stderr",
     "output_type": "stream",
     "text": [
      "Started analysis of SRR8437481_2.fastq.gz\n",
      "Approx 5% complete for SRR8437481_2.fastq.gz\n",
      "Approx 10% complete for SRR8437481_2.fastq.gz\n",
      "Approx 15% complete for SRR8437481_2.fastq.gz\n",
      "Approx 20% complete for SRR8437481_2.fastq.gz\n",
      "Approx 25% complete for SRR8437481_2.fastq.gz\n",
      "Approx 30% complete for SRR8437481_2.fastq.gz\n",
      "Approx 35% complete for SRR8437481_2.fastq.gz\n",
      "Approx 40% complete for SRR8437481_2.fastq.gz\n",
      "Approx 45% complete for SRR8437481_2.fastq.gz\n",
      "Approx 50% complete for SRR8437481_2.fastq.gz\n",
      "Approx 55% complete for SRR8437481_2.fastq.gz\n",
      "Approx 60% complete for SRR8437481_2.fastq.gz\n",
      "Approx 65% complete for SRR8437481_2.fastq.gz\n",
      "Approx 70% complete for SRR8437481_2.fastq.gz\n",
      "Approx 75% complete for SRR8437481_2.fastq.gz\n",
      "Approx 80% complete for SRR8437481_2.fastq.gz\n",
      "Approx 85% complete for SRR8437481_2.fastq.gz\n",
      "Approx 90% complete for SRR8437481_2.fastq.gz\n",
      "Approx 95% complete for SRR8437481_2.fastq.gz\n"
     ]
    },
    {
     "name": "stdout",
     "output_type": "stream",
     "text": [
      "Analysis complete for SRR8437481_2.fastq.gz\n",
      "FastQC complete for RNA_seq_workflow/input/SRR8437481_2.fastq.gz. Reports saved in RNA_seq_workflow/output/1_initial_qc\n",
      "Trimming reads: RNA_seq_workflow/input/SRR8437481_1.fastq.gz and RNA_seq_workflow/input/SRR8437481_2.fastq.gz using adapters from RNA_seq_workflow/adapters/TruSeq3-PE.fa\n"
     ]
    },
    {
     "name": "stderr",
     "output_type": "stream",
     "text": [
      "TrimmomaticPE: Started with arguments:\n",
      " -threads 8 RNA_seq_workflow/input/SRR8437481_1.fastq.gz RNA_seq_workflow/input/SRR8437481_2.fastq.gz RNA_seq_workflow/output/2_trimmed_output/SRR8437481_1.trimmed.fastq.gz unpaired_1.fastq.gz RNA_seq_workflow/output/2_trimmed_output/SRR8437481_2.trimmed.fastq.gz unpaired_2.fastq.gz ILLUMINACLIP:RNA_seq_workflow/adapters/TruSeq3-PE.fa:2:30:10 LEADING:3 TRAILING:3 SLIDINGWINDOW:4:20 MINLEN:50\n",
      "Using PrefixPair: 'TACACTCTTTCCCTACACGACGCTCTTCCGATCT' and 'GTGACTGGAGTTCAGACGTGTGCTCTTCCGATCT'\n",
      "ILLUMINACLIP: Using 1 prefix pairs, 0 forward/reverse sequences, 0 forward only sequences, 0 reverse only sequences\n",
      "Quality encoding detected as phred33\n",
      "Input Read Pairs: 28694901 Both Surviving: 25544038 (89.02%) Forward Only Surviving: 2397921 (8.36%) Reverse Only Surviving: 281674 (0.98%) Dropped: 471268 (1.64%)\n",
      "TrimmomaticPE: Completed successfully\n",
      "Started analysis of SRR8437481_1.trimmed.fastq.gz\n"
     ]
    },
    {
     "name": "stdout",
     "output_type": "stream",
     "text": [
      "Trimming complete. Trimmed files: RNA_seq_workflow/output/2_trimmed_output/SRR8437481_1.trimmed.fastq.gz, RNA_seq_workflow/output/2_trimmed_output/SRR8437481_2.trimmed.fastq.gz\n",
      "Running FastQC on RNA_seq_workflow/output/2_trimmed_output/SRR8437481_1.trimmed.fastq.gz...\n",
      "application/gzip\n"
     ]
    },
    {
     "name": "stderr",
     "output_type": "stream",
     "text": [
      "Approx 5% complete for SRR8437481_1.trimmed.fastq.gz\n",
      "Approx 10% complete for SRR8437481_1.trimmed.fastq.gz\n",
      "Approx 15% complete for SRR8437481_1.trimmed.fastq.gz\n",
      "Approx 20% complete for SRR8437481_1.trimmed.fastq.gz\n",
      "Approx 25% complete for SRR8437481_1.trimmed.fastq.gz\n",
      "Approx 30% complete for SRR8437481_1.trimmed.fastq.gz\n",
      "Approx 35% complete for SRR8437481_1.trimmed.fastq.gz\n",
      "Approx 40% complete for SRR8437481_1.trimmed.fastq.gz\n",
      "Approx 45% complete for SRR8437481_1.trimmed.fastq.gz\n",
      "Approx 50% complete for SRR8437481_1.trimmed.fastq.gz\n",
      "Approx 55% complete for SRR8437481_1.trimmed.fastq.gz\n",
      "Approx 60% complete for SRR8437481_1.trimmed.fastq.gz\n",
      "Approx 65% complete for SRR8437481_1.trimmed.fastq.gz\n",
      "Approx 70% complete for SRR8437481_1.trimmed.fastq.gz\n",
      "Approx 75% complete for SRR8437481_1.trimmed.fastq.gz\n",
      "Approx 80% complete for SRR8437481_1.trimmed.fastq.gz\n",
      "Approx 85% complete for SRR8437481_1.trimmed.fastq.gz\n",
      "Approx 90% complete for SRR8437481_1.trimmed.fastq.gz\n",
      "Approx 95% complete for SRR8437481_1.trimmed.fastq.gz\n"
     ]
    },
    {
     "name": "stdout",
     "output_type": "stream",
     "text": [
      "Analysis complete for SRR8437481_1.trimmed.fastq.gz\n",
      "FastQC complete for RNA_seq_workflow/output/2_trimmed_output/SRR8437481_1.trimmed.fastq.gz. Reports saved in RNA_seq_workflow/output/1_initial_qc\n",
      "Running FastQC on RNA_seq_workflow/output/2_trimmed_output/SRR8437481_2.trimmed.fastq.gz...\n",
      "application/gzip\n"
     ]
    },
    {
     "name": "stderr",
     "output_type": "stream",
     "text": [
      "Started analysis of SRR8437481_2.trimmed.fastq.gz\n",
      "Approx 5% complete for SRR8437481_2.trimmed.fastq.gz\n",
      "Approx 10% complete for SRR8437481_2.trimmed.fastq.gz\n",
      "Approx 15% complete for SRR8437481_2.trimmed.fastq.gz\n",
      "Approx 20% complete for SRR8437481_2.trimmed.fastq.gz\n",
      "Approx 25% complete for SRR8437481_2.trimmed.fastq.gz\n",
      "Approx 30% complete for SRR8437481_2.trimmed.fastq.gz\n",
      "Approx 35% complete for SRR8437481_2.trimmed.fastq.gz\n",
      "Approx 40% complete for SRR8437481_2.trimmed.fastq.gz\n",
      "Approx 45% complete for SRR8437481_2.trimmed.fastq.gz\n",
      "Approx 50% complete for SRR8437481_2.trimmed.fastq.gz\n",
      "Approx 55% complete for SRR8437481_2.trimmed.fastq.gz\n",
      "Approx 60% complete for SRR8437481_2.trimmed.fastq.gz\n",
      "Approx 65% complete for SRR8437481_2.trimmed.fastq.gz\n",
      "Approx 70% complete for SRR8437481_2.trimmed.fastq.gz\n",
      "Approx 75% complete for SRR8437481_2.trimmed.fastq.gz\n",
      "Approx 80% complete for SRR8437481_2.trimmed.fastq.gz\n",
      "Approx 85% complete for SRR8437481_2.trimmed.fastq.gz\n",
      "Approx 90% complete for SRR8437481_2.trimmed.fastq.gz\n",
      "Approx 95% complete for SRR8437481_2.trimmed.fastq.gz\n"
     ]
    },
    {
     "name": "stdout",
     "output_type": "stream",
     "text": [
      "Analysis complete for SRR8437481_2.trimmed.fastq.gz\n",
      "FastQC complete for RNA_seq_workflow/output/2_trimmed_output/SRR8437481_2.trimmed.fastq.gz. Reports saved in RNA_seq_workflow/output/1_initial_qc\n",
      "Running FastQC on RNA_seq_workflow/input/SRR8437478_1.fastq.gz...\n",
      "application/gzip\n"
     ]
    },
    {
     "name": "stderr",
     "output_type": "stream",
     "text": [
      "Started analysis of SRR8437478_1.fastq.gz\n",
      "Approx 5% complete for SRR8437478_1.fastq.gz\n",
      "Approx 10% complete for SRR8437478_1.fastq.gz\n",
      "Approx 15% complete for SRR8437478_1.fastq.gz\n",
      "Approx 20% complete for SRR8437478_1.fastq.gz\n",
      "Approx 25% complete for SRR8437478_1.fastq.gz\n",
      "Approx 30% complete for SRR8437478_1.fastq.gz\n",
      "Approx 35% complete for SRR8437478_1.fastq.gz\n",
      "Approx 40% complete for SRR8437478_1.fastq.gz\n",
      "Approx 45% complete for SRR8437478_1.fastq.gz\n",
      "Approx 50% complete for SRR8437478_1.fastq.gz\n",
      "Approx 55% complete for SRR8437478_1.fastq.gz\n",
      "Approx 60% complete for SRR8437478_1.fastq.gz\n",
      "Approx 65% complete for SRR8437478_1.fastq.gz\n",
      "Approx 70% complete for SRR8437478_1.fastq.gz\n",
      "Approx 75% complete for SRR8437478_1.fastq.gz\n",
      "Approx 80% complete for SRR8437478_1.fastq.gz\n",
      "Approx 85% complete for SRR8437478_1.fastq.gz\n",
      "Approx 90% complete for SRR8437478_1.fastq.gz\n",
      "Approx 95% complete for SRR8437478_1.fastq.gz\n"
     ]
    },
    {
     "name": "stdout",
     "output_type": "stream",
     "text": [
      "Analysis complete for SRR8437478_1.fastq.gz\n",
      "FastQC complete for RNA_seq_workflow/input/SRR8437478_1.fastq.gz. Reports saved in RNA_seq_workflow/output/1_initial_qc\n",
      "Running FastQC on RNA_seq_workflow/input/SRR8437478_2.fastq.gz...\n",
      "application/gzip\n"
     ]
    },
    {
     "name": "stderr",
     "output_type": "stream",
     "text": [
      "Started analysis of SRR8437478_2.fastq.gz\n",
      "Approx 5% complete for SRR8437478_2.fastq.gz\n",
      "Approx 10% complete for SRR8437478_2.fastq.gz\n",
      "Approx 15% complete for SRR8437478_2.fastq.gz\n",
      "Approx 20% complete for SRR8437478_2.fastq.gz\n",
      "Approx 25% complete for SRR8437478_2.fastq.gz\n",
      "Approx 30% complete for SRR8437478_2.fastq.gz\n",
      "Approx 35% complete for SRR8437478_2.fastq.gz\n",
      "Approx 40% complete for SRR8437478_2.fastq.gz\n",
      "Approx 45% complete for SRR8437478_2.fastq.gz\n",
      "Approx 50% complete for SRR8437478_2.fastq.gz\n",
      "Approx 55% complete for SRR8437478_2.fastq.gz\n",
      "Approx 60% complete for SRR8437478_2.fastq.gz\n",
      "Approx 65% complete for SRR8437478_2.fastq.gz\n",
      "Approx 70% complete for SRR8437478_2.fastq.gz\n",
      "Approx 75% complete for SRR8437478_2.fastq.gz\n",
      "Approx 80% complete for SRR8437478_2.fastq.gz\n",
      "Approx 85% complete for SRR8437478_2.fastq.gz\n",
      "Approx 90% complete for SRR8437478_2.fastq.gz\n",
      "Approx 95% complete for SRR8437478_2.fastq.gz\n"
     ]
    },
    {
     "name": "stdout",
     "output_type": "stream",
     "text": [
      "Analysis complete for SRR8437478_2.fastq.gz\n",
      "FastQC complete for RNA_seq_workflow/input/SRR8437478_2.fastq.gz. Reports saved in RNA_seq_workflow/output/1_initial_qc\n",
      "Trimming reads: RNA_seq_workflow/input/SRR8437478_1.fastq.gz and RNA_seq_workflow/input/SRR8437478_2.fastq.gz using adapters from RNA_seq_workflow/adapters/TruSeq3-PE.fa\n"
     ]
    },
    {
     "name": "stderr",
     "output_type": "stream",
     "text": [
      "TrimmomaticPE: Started with arguments:\n",
      " -threads 8 RNA_seq_workflow/input/SRR8437478_1.fastq.gz RNA_seq_workflow/input/SRR8437478_2.fastq.gz RNA_seq_workflow/output/2_trimmed_output/SRR8437478_1.trimmed.fastq.gz unpaired_1.fastq.gz RNA_seq_workflow/output/2_trimmed_output/SRR8437478_2.trimmed.fastq.gz unpaired_2.fastq.gz ILLUMINACLIP:RNA_seq_workflow/adapters/TruSeq3-PE.fa:2:30:10 LEADING:3 TRAILING:3 SLIDINGWINDOW:4:20 MINLEN:50\n",
      "Using PrefixPair: 'TACACTCTTTCCCTACACGACGCTCTTCCGATCT' and 'GTGACTGGAGTTCAGACGTGTGCTCTTCCGATCT'\n",
      "ILLUMINACLIP: Using 1 prefix pairs, 0 forward/reverse sequences, 0 forward only sequences, 0 reverse only sequences\n",
      "Quality encoding detected as phred33\n",
      "Input Read Pairs: 23939223 Both Surviving: 20140139 (84.13%) Forward Only Surviving: 2717732 (11.35%) Reverse Only Surviving: 477646 (2.00%) Dropped: 603706 (2.52%)\n",
      "TrimmomaticPE: Completed successfully\n",
      "Started analysis of SRR8437478_1.trimmed.fastq.gz\n"
     ]
    },
    {
     "name": "stdout",
     "output_type": "stream",
     "text": [
      "Trimming complete. Trimmed files: RNA_seq_workflow/output/2_trimmed_output/SRR8437478_1.trimmed.fastq.gz, RNA_seq_workflow/output/2_trimmed_output/SRR8437478_2.trimmed.fastq.gz\n",
      "Running FastQC on RNA_seq_workflow/output/2_trimmed_output/SRR8437478_1.trimmed.fastq.gz...\n",
      "application/gzip\n"
     ]
    },
    {
     "name": "stderr",
     "output_type": "stream",
     "text": [
      "Approx 5% complete for SRR8437478_1.trimmed.fastq.gz\n",
      "Approx 10% complete for SRR8437478_1.trimmed.fastq.gz\n",
      "Approx 15% complete for SRR8437478_1.trimmed.fastq.gz\n",
      "Approx 20% complete for SRR8437478_1.trimmed.fastq.gz\n",
      "Approx 25% complete for SRR8437478_1.trimmed.fastq.gz\n",
      "Approx 30% complete for SRR8437478_1.trimmed.fastq.gz\n",
      "Approx 35% complete for SRR8437478_1.trimmed.fastq.gz\n",
      "Approx 40% complete for SRR8437478_1.trimmed.fastq.gz\n",
      "Approx 45% complete for SRR8437478_1.trimmed.fastq.gz\n",
      "Approx 50% complete for SRR8437478_1.trimmed.fastq.gz\n",
      "Approx 55% complete for SRR8437478_1.trimmed.fastq.gz\n",
      "Approx 60% complete for SRR8437478_1.trimmed.fastq.gz\n",
      "Approx 65% complete for SRR8437478_1.trimmed.fastq.gz\n",
      "Approx 70% complete for SRR8437478_1.trimmed.fastq.gz\n",
      "Approx 75% complete for SRR8437478_1.trimmed.fastq.gz\n",
      "Approx 80% complete for SRR8437478_1.trimmed.fastq.gz\n",
      "Approx 85% complete for SRR8437478_1.trimmed.fastq.gz\n",
      "Approx 90% complete for SRR8437478_1.trimmed.fastq.gz\n",
      "Approx 95% complete for SRR8437478_1.trimmed.fastq.gz\n"
     ]
    },
    {
     "name": "stdout",
     "output_type": "stream",
     "text": [
      "Analysis complete for SRR8437478_1.trimmed.fastq.gz\n",
      "FastQC complete for RNA_seq_workflow/output/2_trimmed_output/SRR8437478_1.trimmed.fastq.gz. Reports saved in RNA_seq_workflow/output/1_initial_qc\n",
      "Running FastQC on RNA_seq_workflow/output/2_trimmed_output/SRR8437478_2.trimmed.fastq.gz...\n",
      "application/gzip\n"
     ]
    },
    {
     "name": "stderr",
     "output_type": "stream",
     "text": [
      "Started analysis of SRR8437478_2.trimmed.fastq.gz\n",
      "Approx 5% complete for SRR8437478_2.trimmed.fastq.gz\n",
      "Approx 10% complete for SRR8437478_2.trimmed.fastq.gz\n",
      "Approx 15% complete for SRR8437478_2.trimmed.fastq.gz\n",
      "Approx 20% complete for SRR8437478_2.trimmed.fastq.gz\n",
      "Approx 25% complete for SRR8437478_2.trimmed.fastq.gz\n",
      "Approx 30% complete for SRR8437478_2.trimmed.fastq.gz\n",
      "Approx 35% complete for SRR8437478_2.trimmed.fastq.gz\n",
      "Approx 40% complete for SRR8437478_2.trimmed.fastq.gz\n",
      "Approx 45% complete for SRR8437478_2.trimmed.fastq.gz\n",
      "Approx 50% complete for SRR8437478_2.trimmed.fastq.gz\n",
      "Approx 55% complete for SRR8437478_2.trimmed.fastq.gz\n",
      "Approx 60% complete for SRR8437478_2.trimmed.fastq.gz\n",
      "Approx 65% complete for SRR8437478_2.trimmed.fastq.gz\n",
      "Approx 70% complete for SRR8437478_2.trimmed.fastq.gz\n",
      "Approx 75% complete for SRR8437478_2.trimmed.fastq.gz\n",
      "Approx 80% complete for SRR8437478_2.trimmed.fastq.gz\n",
      "Approx 85% complete for SRR8437478_2.trimmed.fastq.gz\n",
      "Approx 90% complete for SRR8437478_2.trimmed.fastq.gz\n",
      "Approx 95% complete for SRR8437478_2.trimmed.fastq.gz\n"
     ]
    },
    {
     "name": "stdout",
     "output_type": "stream",
     "text": [
      "Analysis complete for SRR8437478_2.trimmed.fastq.gz\n",
      "FastQC complete for RNA_seq_workflow/output/2_trimmed_output/SRR8437478_2.trimmed.fastq.gz. Reports saved in RNA_seq_workflow/output/1_initial_qc\n",
      "Running FastQC on RNA_seq_workflow/input/SRR8437479_1.fastq.gz...\n",
      "application/gzip\n"
     ]
    },
    {
     "name": "stderr",
     "output_type": "stream",
     "text": [
      "Started analysis of SRR8437479_1.fastq.gz\n",
      "Approx 5% complete for SRR8437479_1.fastq.gz\n",
      "Approx 10% complete for SRR8437479_1.fastq.gz\n",
      "Approx 15% complete for SRR8437479_1.fastq.gz\n",
      "Approx 20% complete for SRR8437479_1.fastq.gz\n",
      "Approx 25% complete for SRR8437479_1.fastq.gz\n",
      "Approx 30% complete for SRR8437479_1.fastq.gz\n",
      "Approx 35% complete for SRR8437479_1.fastq.gz\n",
      "Approx 40% complete for SRR8437479_1.fastq.gz\n",
      "Approx 45% complete for SRR8437479_1.fastq.gz\n",
      "Approx 50% complete for SRR8437479_1.fastq.gz\n",
      "Approx 55% complete for SRR8437479_1.fastq.gz\n",
      "Approx 60% complete for SRR8437479_1.fastq.gz\n",
      "Approx 65% complete for SRR8437479_1.fastq.gz\n",
      "Approx 70% complete for SRR8437479_1.fastq.gz\n",
      "Approx 75% complete for SRR8437479_1.fastq.gz\n",
      "Approx 80% complete for SRR8437479_1.fastq.gz\n",
      "Approx 85% complete for SRR8437479_1.fastq.gz\n",
      "Approx 90% complete for SRR8437479_1.fastq.gz\n",
      "Approx 95% complete for SRR8437479_1.fastq.gz\n"
     ]
    },
    {
     "name": "stdout",
     "output_type": "stream",
     "text": [
      "Analysis complete for SRR8437479_1.fastq.gz\n",
      "FastQC complete for RNA_seq_workflow/input/SRR8437479_1.fastq.gz. Reports saved in RNA_seq_workflow/output/1_initial_qc\n",
      "Running FastQC on RNA_seq_workflow/input/SRR8437479_2.fastq.gz...\n",
      "application/gzip\n"
     ]
    },
    {
     "name": "stderr",
     "output_type": "stream",
     "text": [
      "Started analysis of SRR8437479_2.fastq.gz\n",
      "Approx 5% complete for SRR8437479_2.fastq.gz\n",
      "Approx 10% complete for SRR8437479_2.fastq.gz\n",
      "Approx 15% complete for SRR8437479_2.fastq.gz\n",
      "Approx 20% complete for SRR8437479_2.fastq.gz\n",
      "Approx 25% complete for SRR8437479_2.fastq.gz\n",
      "Approx 30% complete for SRR8437479_2.fastq.gz\n",
      "Approx 35% complete for SRR8437479_2.fastq.gz\n",
      "Approx 40% complete for SRR8437479_2.fastq.gz\n",
      "Approx 45% complete for SRR8437479_2.fastq.gz\n",
      "Approx 50% complete for SRR8437479_2.fastq.gz\n",
      "Approx 55% complete for SRR8437479_2.fastq.gz\n",
      "Approx 60% complete for SRR8437479_2.fastq.gz\n",
      "Approx 65% complete for SRR8437479_2.fastq.gz\n",
      "Approx 70% complete for SRR8437479_2.fastq.gz\n",
      "Approx 75% complete for SRR8437479_2.fastq.gz\n",
      "Approx 80% complete for SRR8437479_2.fastq.gz\n",
      "Approx 85% complete for SRR8437479_2.fastq.gz\n",
      "Approx 90% complete for SRR8437479_2.fastq.gz\n",
      "Approx 95% complete for SRR8437479_2.fastq.gz\n"
     ]
    },
    {
     "name": "stdout",
     "output_type": "stream",
     "text": [
      "Analysis complete for SRR8437479_2.fastq.gz\n",
      "FastQC complete for RNA_seq_workflow/input/SRR8437479_2.fastq.gz. Reports saved in RNA_seq_workflow/output/1_initial_qc\n",
      "Trimming reads: RNA_seq_workflow/input/SRR8437479_1.fastq.gz and RNA_seq_workflow/input/SRR8437479_2.fastq.gz using adapters from RNA_seq_workflow/adapters/TruSeq3-PE.fa\n"
     ]
    },
    {
     "name": "stderr",
     "output_type": "stream",
     "text": [
      "TrimmomaticPE: Started with arguments:\n",
      " -threads 8 RNA_seq_workflow/input/SRR8437479_1.fastq.gz RNA_seq_workflow/input/SRR8437479_2.fastq.gz RNA_seq_workflow/output/2_trimmed_output/SRR8437479_1.trimmed.fastq.gz unpaired_1.fastq.gz RNA_seq_workflow/output/2_trimmed_output/SRR8437479_2.trimmed.fastq.gz unpaired_2.fastq.gz ILLUMINACLIP:RNA_seq_workflow/adapters/TruSeq3-PE.fa:2:30:10 LEADING:3 TRAILING:3 SLIDINGWINDOW:4:20 MINLEN:50\n",
      "Using PrefixPair: 'TACACTCTTTCCCTACACGACGCTCTTCCGATCT' and 'GTGACTGGAGTTCAGACGTGTGCTCTTCCGATCT'\n",
      "ILLUMINACLIP: Using 1 prefix pairs, 0 forward/reverse sequences, 0 forward only sequences, 0 reverse only sequences\n",
      "Quality encoding detected as phred33\n",
      "Input Read Pairs: 26772466 Both Surviving: 23016090 (85.97%) Forward Only Surviving: 2735806 (10.22%) Reverse Only Surviving: 429579 (1.60%) Dropped: 590991 (2.21%)\n",
      "TrimmomaticPE: Completed successfully\n",
      "Started analysis of SRR8437479_1.trimmed.fastq.gz\n"
     ]
    },
    {
     "name": "stdout",
     "output_type": "stream",
     "text": [
      "Trimming complete. Trimmed files: RNA_seq_workflow/output/2_trimmed_output/SRR8437479_1.trimmed.fastq.gz, RNA_seq_workflow/output/2_trimmed_output/SRR8437479_2.trimmed.fastq.gz\n",
      "Running FastQC on RNA_seq_workflow/output/2_trimmed_output/SRR8437479_1.trimmed.fastq.gz...\n",
      "application/gzip\n"
     ]
    },
    {
     "name": "stderr",
     "output_type": "stream",
     "text": [
      "Approx 5% complete for SRR8437479_1.trimmed.fastq.gz\n",
      "Approx 10% complete for SRR8437479_1.trimmed.fastq.gz\n",
      "Approx 15% complete for SRR8437479_1.trimmed.fastq.gz\n",
      "Approx 20% complete for SRR8437479_1.trimmed.fastq.gz\n",
      "Approx 25% complete for SRR8437479_1.trimmed.fastq.gz\n",
      "Approx 30% complete for SRR8437479_1.trimmed.fastq.gz\n",
      "Approx 35% complete for SRR8437479_1.trimmed.fastq.gz\n",
      "Approx 40% complete for SRR8437479_1.trimmed.fastq.gz\n",
      "Approx 45% complete for SRR8437479_1.trimmed.fastq.gz\n",
      "Approx 50% complete for SRR8437479_1.trimmed.fastq.gz\n",
      "Approx 55% complete for SRR8437479_1.trimmed.fastq.gz\n",
      "Approx 60% complete for SRR8437479_1.trimmed.fastq.gz\n",
      "Approx 65% complete for SRR8437479_1.trimmed.fastq.gz\n",
      "Approx 70% complete for SRR8437479_1.trimmed.fastq.gz\n",
      "Approx 75% complete for SRR8437479_1.trimmed.fastq.gz\n",
      "Approx 80% complete for SRR8437479_1.trimmed.fastq.gz\n",
      "Approx 85% complete for SRR8437479_1.trimmed.fastq.gz\n",
      "Approx 90% complete for SRR8437479_1.trimmed.fastq.gz\n",
      "Approx 95% complete for SRR8437479_1.trimmed.fastq.gz\n"
     ]
    },
    {
     "name": "stdout",
     "output_type": "stream",
     "text": [
      "Analysis complete for SRR8437479_1.trimmed.fastq.gz\n",
      "FastQC complete for RNA_seq_workflow/output/2_trimmed_output/SRR8437479_1.trimmed.fastq.gz. Reports saved in RNA_seq_workflow/output/1_initial_qc\n",
      "Running FastQC on RNA_seq_workflow/output/2_trimmed_output/SRR8437479_2.trimmed.fastq.gz...\n",
      "application/gzip\n"
     ]
    },
    {
     "name": "stderr",
     "output_type": "stream",
     "text": [
      "Started analysis of SRR8437479_2.trimmed.fastq.gz\n",
      "Approx 5% complete for SRR8437479_2.trimmed.fastq.gz\n",
      "Approx 10% complete for SRR8437479_2.trimmed.fastq.gz\n",
      "Approx 15% complete for SRR8437479_2.trimmed.fastq.gz\n",
      "Approx 20% complete for SRR8437479_2.trimmed.fastq.gz\n",
      "Approx 25% complete for SRR8437479_2.trimmed.fastq.gz\n",
      "Approx 30% complete for SRR8437479_2.trimmed.fastq.gz\n",
      "Approx 35% complete for SRR8437479_2.trimmed.fastq.gz\n",
      "Approx 40% complete for SRR8437479_2.trimmed.fastq.gz\n",
      "Approx 45% complete for SRR8437479_2.trimmed.fastq.gz\n",
      "Approx 50% complete for SRR8437479_2.trimmed.fastq.gz\n",
      "Approx 55% complete for SRR8437479_2.trimmed.fastq.gz\n",
      "Approx 60% complete for SRR8437479_2.trimmed.fastq.gz\n",
      "Approx 65% complete for SRR8437479_2.trimmed.fastq.gz\n",
      "Approx 70% complete for SRR8437479_2.trimmed.fastq.gz\n",
      "Approx 75% complete for SRR8437479_2.trimmed.fastq.gz\n",
      "Approx 80% complete for SRR8437479_2.trimmed.fastq.gz\n",
      "Approx 85% complete for SRR8437479_2.trimmed.fastq.gz\n",
      "Approx 90% complete for SRR8437479_2.trimmed.fastq.gz\n",
      "Approx 95% complete for SRR8437479_2.trimmed.fastq.gz\n"
     ]
    },
    {
     "name": "stdout",
     "output_type": "stream",
     "text": [
      "Analysis complete for SRR8437479_2.trimmed.fastq.gz\n",
      "FastQC complete for RNA_seq_workflow/output/2_trimmed_output/SRR8437479_2.trimmed.fastq.gz. Reports saved in RNA_seq_workflow/output/1_initial_qc\n",
      "Quality control and trimming complete for all samples.\n"
     ]
    }
   ],
   "source": [
    "import os\n",
    "import subprocess\n",
    "\n",
    "def run_fastqc(fastq_file, output_dir):\n",
    "    \"\"\"Run quality control using FastQC.\"\"\"\n",
    "    print(f\"Running FastQC on {fastq_file}...\")\n",
    "    subprocess.run([\"fastqc\", fastq_file, \"--outdir\", output_dir], check=True)\n",
    "    print(f\"FastQC complete for {fastq_file}. Reports saved in {output_dir}\")\n",
    "\n",
    "def trim_reads(fastq1, fastq2, output_fastq1, output_fastq2, adapter_file):\n",
    "    \"\"\"Trim low-quality reads and adapters using Trimmomatic.\"\"\"\n",
    "    if not os.path.exists(adapter_file):\n",
    "        raise FileNotFoundError(f\"Adapter file not found: {adapter_file}\")\n",
    "    print(f\"Trimming reads: {fastq1} and {fastq2} using adapters from {adapter_file}\")\n",
    "    subprocess.run([\n",
    "        \"trimmomatic\", \"PE\", \"-threads\", \"8\",\n",
    "        fastq1, fastq2,  # Input files\n",
    "        output_fastq1, \"unpaired_1.fastq.gz\",  # Paired and unpaired outputs\n",
    "        output_fastq2, \"unpaired_2.fastq.gz\",\n",
    "        f\"ILLUMINACLIP:{adapter_file}:2:30:10\", \"LEADING:3\", \"TRAILING:3\", \"SLIDINGWINDOW:4:20\", \"MINLEN:50\"\n",
    "    ], check=True)\n",
    "    print(f\"Trimming complete. Trimmed files: {output_fastq1}, {output_fastq2}\")\n",
    "\n",
    "# Set up directories\n",
    "output_folder = \"RNA_seq_workflow/output\"\n",
    "fastqc_dir = os.path.join(output_folder, \"1_initial_qc\")\n",
    "os.makedirs(fastqc_dir, exist_ok=True)\n",
    "\n",
    "trimmed_dir = os.path.join(output_folder,\"2_trimmed_output\")\n",
    "os.makedirs(trimmed_dir, exist_ok=True)\n",
    "\n",
    "# Define adapter file path\n",
    "adapter_file = \"RNA_seq_workflow/adapters/TruSeq3-PE.fa\"\n",
    "\n",
    "# Define input FASTQ files for each sample\n",
    "samples = {\n",
    "    \"SRR8437484\": [\"RNA_seq_workflow/input/SRR8437484_1.fastq.gz\", \"RNA_seq_workflow/input/SRR8437484_2.fastq.gz\"], # control 1\n",
    "    \"SRR8437485\": [\"RNA_seq_workflow/input/SRR8437485_1.fastq.gz\", \"RNA_seq_workflow/input/SRR8437485_2.fastq.gz\"], # control 2\n",
    "    \"SRR8437482\": [\"RNA_seq_workflow/input/SRR8437482_1.fastq.gz\", \"RNA_seq_workflow/input/SRR8437482_2.fastq.gz\"], # control 3\n",
    "    \"SRR8437483\": [\"RNA_seq_workflow/input/SRR8437483_1.fastq.gz\", \"RNA_seq_workflow/input/SRR8437483_2.fastq.gz\"], # control 4\n",
    "    \"SRR8437480\": [\"RNA_seq_workflow/input/SRR8437480_1.fastq.gz\", \"RNA_seq_workflow/input/SRR8437480_2.fastq.gz\"], # Pst 1\n",
    "    \"SRR8437481\": [\"RNA_seq_workflow/input/SRR8437481_1.fastq.gz\", \"RNA_seq_workflow/input/SRR8437481_2.fastq.gz\"], # Pst 2\n",
    "    \"SRR8437478\": [\"RNA_seq_workflow/input/SRR8437478_1.fastq.gz\", \"RNA_seq_workflow/input/SRR8437478_2.fastq.gz\"], # Pst 3\n",
    "    \"SRR8437479\": [\"RNA_seq_workflow/input/SRR8437479_1.fastq.gz\", \"RNA_seq_workflow/input/SRR8437479_2.fastq.gz\"], # Pst 4\n",
    "}\n",
    "\n",
    "# Perform QC and trimming for each sample\n",
    "for sample, files in samples.items():\n",
    "    fastq1, fastq2 = files\n",
    "\n",
    "    # Run QC on raw reads\n",
    "    run_fastqc(fastq1, fastqc_dir)\n",
    "    run_fastqc(fastq2, fastqc_dir)\n",
    "\n",
    "    # Prepare paths for trimmed outputs\n",
    "    output_fastq1 = os.path.join(trimmed_dir, f\"{sample}_1.trimmed.fastq.gz\")\n",
    "    output_fastq2 = os.path.join(trimmed_dir, f\"{sample}_2.trimmed.fastq.gz\")\n",
    "\n",
    "    # Trim reads\n",
    "    trim_reads(fastq1, fastq2, output_fastq1, output_fastq2, adapter_file)\n",
    "\n",
    "    # Run QC on trimmed reads\n",
    "    run_fastqc(output_fastq1, fastqc_dir)\n",
    "    run_fastqc(output_fastq2, fastqc_dir)\n",
    "\n",
    "print(\"Quality control and trimming complete for all samples.\")"
   ]
  },
  {
   "cell_type": "markdown",
   "metadata": {},
   "source": [
    "#### Step 3: Index the reference genome and align reads to the reference genome\n",
    "##### 3.1 Index the reference genome"
   ]
  },
  {
   "cell_type": "code",
   "execution_count": 5,
   "metadata": {},
   "outputs": [
    {
     "name": "stdout",
     "output_type": "stream",
     "text": [
      "Indexing reference genome with HISAT2: RNA_seq_workflow/genome/Hordeum_vulgare.MorexV3_pseudomolecules_assembly.dna.toplevel.fa...\n"
     ]
    },
    {
     "name": "stderr",
     "output_type": "stream",
     "text": [
      "Settings:\n",
      "  Output files: \"RNA_seq_workflow/hisat2_index/hisat2_index.*.ht2l\"\n",
      "  Line rate: 7 (line is 128 bytes)\n",
      "  Lines per side: 1 (side is 128 bytes)\n",
      "  Offset rate: 4 (one in 16)\n",
      "  FTable chars: 10\n",
      "  Strings: unpacked\n",
      "  Local offset rate: 3 (one in 8)\n",
      "  Local fTable chars: 6\n",
      "  Local sequence length: 57344\n",
      "  Local sequence overlap between two consecutive indexes: 1024\n",
      "  Endianness: little\n",
      "  Actual local endianness: little\n",
      "  Sanity checking: disabled\n",
      "  Assertions: disabled\n",
      "  Random seed: 0\n",
      "  Sizeofs: void*:8, int:4, long:8, size_t:8\n",
      "Input files DNA, FASTA:\n",
      "  RNA_seq_workflow/genome/Hordeum_vulgare.MorexV3_pseudomolecules_assembly.dna.toplevel.fa\n",
      "Reading reference sizes\n",
      "  Time reading reference sizes: 00:00:16\n",
      "Calculating joined length\n",
      "Writing header\n",
      "Reserving space for joined string\n",
      "Joining reference sequences\n",
      "  Time to join reference sequences: 00:00:06\n",
      "  Time to read SNPs and splice sites: 00:00:00\n",
      "Using parameters --bmax 792047199 --dcv 1024\n",
      "  Doing ahead-of-time memory usage test\n",
      "  Passed!  Constructing with these parameters: --bmax 792047199 --dcv 1024\n",
      "Constructing suffix-array element generator\n"
     ]
    },
    {
     "name": "stdout",
     "output_type": "stream",
     "text": [
      "Building DifferenceCoverSample\n",
      "  Building sPrime\n",
      "  Building sPrimeOrder\n",
      "  V-Sorting samples\n",
      "  V-Sorting samples time: 00:01:08\n",
      "  Allocating rank array\n",
      "  Ranking v-sort output\n",
      "  Ranking v-sort output time: 00:00:29\n",
      "  Invoking Larsson-Sadakane on ranks\n",
      "  Invoking Larsson-Sadakane on ranks time: 00:00:32\n",
      "  Sanity-checking and returning\n",
      "Building samples\n",
      "Reserving space for 12 sample suffixes\n",
      "Generating random suffixes\n",
      "QSorting 12 sample offsets, eliminating duplicates\n",
      "QSorting sample offsets, eliminating duplicates time: 00:00:00\n",
      "Multikey QSorting 12 samples\n",
      "  (Using difference cover)\n",
      "  Multikey QSorting samples time: 00:00:00\n",
      "Calculating bucket sizes\n",
      "Splitting and merging\n",
      "  Splitting and merging time: 00:00:00\n",
      "Split 1, merged 7; iterating...\n",
      "Splitting and merging\n",
      "  Splitting and merging time: 00:00:00\n",
      "Avg bucket size: 6.03465e+08 (target: 792047198)\n",
      "Getting block 1 of 7\n",
      "  Reserving size (792047199) for bucket 1\n",
      "  Calculating Z arrays for bucket 1\n",
      "  Entering block accumulator loop for bucket 1:\n"
     ]
    },
    {
     "name": "stderr",
     "output_type": "stream",
     "text": [
      "Converting suffix-array elements to index image\n",
      "Allocating ftab, absorbFtab\n",
      "Entering GFM loop\n"
     ]
    },
    {
     "name": "stdout",
     "output_type": "stream",
     "text": [
      "  bucket 1: 10%\n",
      "  bucket 1: 20%\n",
      "  bucket 1: 30%\n",
      "  bucket 1: 40%\n",
      "  bucket 1: 50%\n",
      "  bucket 1: 60%\n",
      "  bucket 1: 70%\n",
      "  bucket 1: 80%\n",
      "  bucket 1: 90%\n",
      "  bucket 1: 100%\n",
      "  Sorting block of length 691135630 for bucket 1\n",
      "  (Using difference cover)\n",
      "  Sorting block time: 00:03:18\n",
      "Returning block of 691135631 for bucket 1\n",
      "Getting block 2 of 7\n",
      "  Reserving size (792047199) for bucket 2\n",
      "  Calculating Z arrays for bucket 2\n",
      "  Entering block accumulator loop for bucket 2:\n",
      "  bucket 2: 10%\n",
      "  bucket 2: 20%\n",
      "  bucket 2: 30%\n",
      "  bucket 2: 40%\n",
      "  bucket 2: 50%\n",
      "  bucket 2: 60%\n",
      "  bucket 2: 70%\n",
      "  bucket 2: 80%\n",
      "  bucket 2: 90%\n",
      "  bucket 2: 100%\n",
      "  Sorting block of length 707380320 for bucket 2\n",
      "  (Using difference cover)\n",
      "  Sorting block time: 00:03:24\n",
      "Returning block of 707380321 for bucket 2\n",
      "Getting block 3 of 7\n",
      "  Reserving size (792047199) for bucket 3\n",
      "  Calculating Z arrays for bucket 3\n",
      "  Entering block accumulator loop for bucket 3:\n",
      "  bucket 3: 10%\n",
      "  bucket 3: 20%\n",
      "  bucket 3: 30%\n",
      "  bucket 3: 40%\n",
      "  bucket 3: 50%\n",
      "  bucket 3: 60%\n",
      "  bucket 3: 70%\n",
      "  bucket 3: 80%\n",
      "  bucket 3: 90%\n",
      "  bucket 3: 100%\n",
      "  Sorting block of length 671937855 for bucket 3\n",
      "  (Using difference cover)\n",
      "  Sorting block time: 00:03:11\n",
      "Returning block of 671937856 for bucket 3\n",
      "Getting block 4 of 7\n",
      "  Reserving size (792047199) for bucket 4\n",
      "  Calculating Z arrays for bucket 4\n",
      "  Entering block accumulator loop for bucket 4:\n",
      "  bucket 4: 10%\n",
      "  bucket 4: 20%\n",
      "  bucket 4: 30%\n",
      "  bucket 4: 40%\n",
      "  bucket 4: 50%\n",
      "  bucket 4: 60%\n",
      "  bucket 4: 70%\n",
      "  bucket 4: 80%\n",
      "  bucket 4: 90%\n",
      "  bucket 4: 100%\n",
      "  Sorting block of length 605111113 for bucket 4\n",
      "  (Using difference cover)\n",
      "  Sorting block time: 00:02:51\n",
      "Returning block of 605111114 for bucket 4\n",
      "Getting block 5 of 7\n",
      "  Reserving size (792047199) for bucket 5\n",
      "  Calculating Z arrays for bucket 5\n",
      "  Entering block accumulator loop for bucket 5:\n",
      "  bucket 5: 10%\n",
      "  bucket 5: 20%\n",
      "  bucket 5: 30%\n",
      "  bucket 5: 40%\n",
      "  bucket 5: 50%\n",
      "  bucket 5: 60%\n",
      "  bucket 5: 70%\n",
      "  bucket 5: 80%\n",
      "  bucket 5: 90%\n",
      "  bucket 5: 100%\n",
      "  Sorting block of length 386253319 for bucket 5\n",
      "  (Using difference cover)\n",
      "  Sorting block time: 00:01:48\n",
      "Returning block of 386253320 for bucket 5\n",
      "Getting block 6 of 7\n",
      "  Reserving size (792047199) for bucket 6\n",
      "  Calculating Z arrays for bucket 6\n",
      "  Entering block accumulator loop for bucket 6:\n",
      "  bucket 6: 10%\n",
      "  bucket 6: 20%\n",
      "  bucket 6: 30%\n",
      "  bucket 6: 40%\n",
      "  bucket 6: 50%\n",
      "  bucket 6: 60%\n",
      "  bucket 6: 70%\n",
      "  bucket 6: 80%\n",
      "  bucket 6: 90%\n",
      "  bucket 6: 100%\n",
      "  Sorting block of length 707654931 for bucket 6\n",
      "  (Using difference cover)\n",
      "  Sorting block time: 00:03:23\n",
      "Returning block of 707654932 for bucket 6\n",
      "Getting block 7 of 7\n",
      "  Reserving size (792047199) for bucket 7\n",
      "  Calculating Z arrays for bucket 7\n",
      "  Entering block accumulator loop for bucket 7:\n",
      "  bucket 7: 10%\n",
      "  bucket 7: 20%\n",
      "  bucket 7: 30%\n",
      "  bucket 7: 40%\n",
      "  bucket 7: 50%\n",
      "  bucket 7: 60%\n",
      "  bucket 7: 70%\n",
      "  bucket 7: 80%\n",
      "  bucket 7: 90%\n",
      "  bucket 7: 100%\n",
      "  Sorting block of length 454778551 for bucket 7\n",
      "  (Using difference cover)\n",
      "  Sorting block time: 00:02:07\n",
      "Returning block of 454778552 for bucket 7\n"
     ]
    },
    {
     "name": "stderr",
     "output_type": "stream",
     "text": [
      "Exited GFM loop\n",
      "fchr[A]: 0\n",
      "fchr[C]: 1171821760\n",
      "fchr[G]: 2111002342\n",
      "fchr[T]: 3050122814\n",
      "fchr[$]: 4224251725\n",
      "Exiting GFM::buildToDisk()\n",
      "Returning from initFromVector\n",
      "Wrote 1416521038 bytes to primary GFM file: RNA_seq_workflow/hisat2_index/hisat2_index.1.ht2l\n",
      "Wrote 2112125868 bytes to secondary GFM file: RNA_seq_workflow/hisat2_index/hisat2_index.2.ht2l\n",
      "Re-opening _in1 and _in2 as input streams\n",
      "Returning from GFM constructor\n"
     ]
    },
    {
     "name": "stdout",
     "output_type": "stream",
     "text": [
      "Indexing complete. Index saved in: RNA_seq_workflow/hisat2_index\n"
     ]
    },
    {
     "name": "stderr",
     "output_type": "stream",
     "text": [
      "Returning from initFromVector\n",
      "Wrote 1855673013 bytes to primary GFM file: RNA_seq_workflow/hisat2_index/hisat2_index.5.ht2l\n",
      "Wrote 1075374496 bytes to secondary GFM file: RNA_seq_workflow/hisat2_index/hisat2_index.6.ht2l\n",
      "Re-opening _in5 and _in5 as input streams\n",
      "Returning from HGFM constructor\n",
      "Headers:\n",
      "    len: 4224251725\n",
      "    gbwtLen: 4224251726\n",
      "    nodes: 4224251726\n",
      "    sz: 1056062932\n",
      "    gbwtSz: 1056062932\n",
      "    lineRate: 7\n",
      "    offRate: 4\n",
      "    offMask: 0xfffffffffffffff0\n",
      "    ftabChars: 10\n",
      "    eftabLen: 0\n",
      "    eftabSz: 0\n",
      "    ftabLen: 1048577\n",
      "    ftabSz: 8388616\n",
      "    offsLen: 264015733\n",
      "    offsSz: 2112125864\n",
      "    lineSz: 128\n",
      "    sideSz: 128\n",
      "    sideGbwtSz: 96\n",
      "    sideGbwtLen: 384\n",
      "    numSides: 11000656\n",
      "    numLines: 11000656\n",
      "    gbwtTotLen: 1408083968\n",
      "    gbwtTotSz: 1408083968\n",
      "    reverse: 0\n",
      "    linearFM: Yes\n",
      "Total time for call to driver() for forward index: 00:36:11\n"
     ]
    }
   ],
   "source": [
    "def index_reference_genome_hisat2(reference_genome, hisat2_index_dir):\n",
    "    \"\"\"\n",
    "    Index the reference genome using HISAT2.\n",
    "\n",
    "    Parameters:\n",
    "        reference_genome (str): Path to the reference genome FASTA file.\n",
    "        hisat2_index_dir (str): Directory to save HISAT2 index files.\n",
    "    \"\"\"\n",
    "    os.makedirs(hisat2_index_dir, exist_ok=True)  # Create index directory if it doesn't exist\n",
    "    print(f\"Indexing reference genome with HISAT2: {reference_genome}...\")\n",
    "    \n",
    "    # HISAT2 index files will be prefixed with the directory path\n",
    "    hisat2_index_prefix = os.path.join(hisat2_index_dir, \"hisat2_index\")\n",
    "    \n",
    "    subprocess.run([\n",
    "        \"hisat2-build\",\n",
    "        reference_genome,\n",
    "        hisat2_index_prefix\n",
    "    ], check=True)\n",
    "    \n",
    "    print(f\"Indexing complete. Index saved in: {hisat2_index_dir}\")\n",
    "\n",
    "# Define reference genome and index directory\n",
    "root_folder = \"RNA_seq_workflow\"\n",
    "reference_genome = os.path.join(root_folder, \"genome\", \"Hordeum_vulgare.MorexV3_pseudomolecules_assembly.dna.toplevel.fa\")\n",
    "hisat2_index_dir = os.path.join(root_folder, \"hisat2_index\")\n",
    "\n",
    "# Index the reference genome\n",
    "index_reference_genome_hisat2(reference_genome, hisat2_index_dir)"
   ]
  },
  {
   "cell_type": "markdown",
   "metadata": {},
   "source": [
    "##### Step 3.2: Align reads to the reference genome using HISAT2 and sort SAM files into BAM files\n"
   ]
  },
  {
   "cell_type": "code",
   "execution_count": null,
   "metadata": {},
   "outputs": [
    {
     "name": "stdout",
     "output_type": "stream",
     "text": [
      "Aligning reads with HISAT2 for sample SRR8437484: RNA_seq_workflow/output/2_trimmed_output/SRR8437484_1.trimmed.fastq.gz and RNA_seq_workflow/output/2_trimmed_output/SRR8437484_2.trimmed.fastq.gz...\n"
     ]
    },
    {
     "name": "stderr",
     "output_type": "stream",
     "text": [
      "20851928 reads; of these:\n",
      "  20851928 (100.00%) were paired; of these:\n",
      "    1980122 (9.50%) aligned concordantly 0 times\n",
      "    17803690 (85.38%) aligned concordantly exactly 1 time\n",
      "    1068116 (5.12%) aligned concordantly >1 times\n",
      "    ----\n",
      "    1980122 pairs aligned concordantly 0 times; of these:\n",
      "      111565 (5.63%) aligned discordantly 1 time\n",
      "    ----\n",
      "    1868557 pairs aligned 0 times concordantly or discordantly; of these:\n",
      "      3737114 mates make up the pairs; of these:\n",
      "        2406937 (64.41%) aligned 0 times\n",
      "        1209045 (32.35%) aligned exactly 1 time\n",
      "        121132 (3.24%) aligned >1 times\n",
      "94.23% overall alignment rate\n",
      "[bam_sort_core] merging from 5 files and 4 in-memory blocks...\n"
     ]
    },
    {
     "name": "stdout",
     "output_type": "stream",
     "text": [
      "Alignment complete for sample SRR8437484. BAM file saved at: RNA_seq_workflow/output/3_aligned_sequences/aligned_bam/SRR8437484.sorted.bam\n",
      "Aligning reads with HISAT2 for sample SRR8437485: RNA_seq_workflow/output/2_trimmed_output/SRR8437485_1.trimmed.fastq.gz and RNA_seq_workflow/output/2_trimmed_output/SRR8437485_2.trimmed.fastq.gz...\n"
     ]
    },
    {
     "name": "stderr",
     "output_type": "stream",
     "text": [
      "20199517 reads; of these:\n",
      "  20199517 (100.00%) were paired; of these:\n",
      "    2570192 (12.72%) aligned concordantly 0 times\n",
      "    16838011 (83.36%) aligned concordantly exactly 1 time\n",
      "    791314 (3.92%) aligned concordantly >1 times\n",
      "    ----\n",
      "    2570192 pairs aligned concordantly 0 times; of these:\n",
      "      120575 (4.69%) aligned discordantly 1 time\n",
      "    ----\n",
      "    2449617 pairs aligned 0 times concordantly or discordantly; of these:\n",
      "      4899234 mates make up the pairs; of these:\n",
      "        3534113 (72.14%) aligned 0 times\n",
      "        1292765 (26.39%) aligned exactly 1 time\n",
      "        72356 (1.48%) aligned >1 times\n",
      "91.25% overall alignment rate\n",
      "[bam_sort_core] merging from 5 files and 4 in-memory blocks...\n"
     ]
    },
    {
     "name": "stdout",
     "output_type": "stream",
     "text": [
      "Alignment complete for sample SRR8437485. BAM file saved at: RNA_seq_workflow/output/3_aligned_sequences/aligned_bam/SRR8437485.sorted.bam\n",
      "Aligning reads with HISAT2 for sample SRR8437482: RNA_seq_workflow/output/2_trimmed_output/SRR8437482_1.trimmed.fastq.gz and RNA_seq_workflow/output/2_trimmed_output/SRR8437482_2.trimmed.fastq.gz...\n"
     ]
    },
    {
     "name": "stderr",
     "output_type": "stream",
     "text": [
      "25824523 reads; of these:\n",
      "  25824523 (100.00%) were paired; of these:\n",
      "    2435790 (9.43%) aligned concordantly 0 times\n",
      "    21827781 (84.52%) aligned concordantly exactly 1 time\n",
      "    1560952 (6.04%) aligned concordantly >1 times\n",
      "    ----\n",
      "    2435790 pairs aligned concordantly 0 times; of these:\n",
      "      156385 (6.42%) aligned discordantly 1 time\n",
      "    ----\n",
      "    2279405 pairs aligned 0 times concordantly or discordantly; of these:\n",
      "      4558810 mates make up the pairs; of these:\n",
      "        2675687 (58.69%) aligned 0 times\n",
      "        1759921 (38.60%) aligned exactly 1 time\n",
      "        123202 (2.70%) aligned >1 times\n",
      "94.82% overall alignment rate\n",
      "[bam_sort_core] merging from 6 files and 4 in-memory blocks...\n"
     ]
    },
    {
     "name": "stdout",
     "output_type": "stream",
     "text": [
      "Alignment complete for sample SRR8437482. BAM file saved at: RNA_seq_workflow/output/3_aligned_sequences/aligned_bam/SRR8437482.sorted.bam\n",
      "Aligning reads with HISAT2 for sample SRR8437483: RNA_seq_workflow/output/2_trimmed_output/SRR8437483_1.trimmed.fastq.gz and RNA_seq_workflow/output/2_trimmed_output/SRR8437483_2.trimmed.fastq.gz...\n"
     ]
    },
    {
     "name": "stderr",
     "output_type": "stream",
     "text": [
      "19203613 reads; of these:\n",
      "  19203613 (100.00%) were paired; of these:\n",
      "    1919614 (10.00%) aligned concordantly 0 times\n",
      "    16230636 (84.52%) aligned concordantly exactly 1 time\n",
      "    1053363 (5.49%) aligned concordantly >1 times\n",
      "    ----\n",
      "    1919614 pairs aligned concordantly 0 times; of these:\n",
      "      110289 (5.75%) aligned discordantly 1 time\n",
      "    ----\n",
      "    1809325 pairs aligned 0 times concordantly or discordantly; of these:\n",
      "      3618650 mates make up the pairs; of these:\n",
      "        2203110 (60.88%) aligned 0 times\n",
      "        1304755 (36.06%) aligned exactly 1 time\n",
      "        110785 (3.06%) aligned >1 times\n",
      "94.26% overall alignment rate\n",
      "[bam_sort_core] merging from 5 files and 4 in-memory blocks...\n"
     ]
    },
    {
     "name": "stdout",
     "output_type": "stream",
     "text": [
      "Alignment complete for sample SRR8437483. BAM file saved at: RNA_seq_workflow/output/3_aligned_sequences/aligned_bam/SRR8437483.sorted.bam\n",
      "Aligning reads with HISAT2 for sample SRR8437480: RNA_seq_workflow/output/2_trimmed_output/SRR8437480_1.trimmed.fastq.gz and RNA_seq_workflow/output/2_trimmed_output/SRR8437480_2.trimmed.fastq.gz...\n"
     ]
    },
    {
     "name": "stderr",
     "output_type": "stream",
     "text": [
      "18380335 reads; of these:\n",
      "  18380335 (100.00%) were paired; of these:\n",
      "    1917840 (10.43%) aligned concordantly 0 times\n",
      "    15617799 (84.97%) aligned concordantly exactly 1 time\n",
      "    844696 (4.60%) aligned concordantly >1 times\n",
      "    ----\n",
      "    1917840 pairs aligned concordantly 0 times; of these:\n",
      "      130963 (6.83%) aligned discordantly 1 time\n",
      "    ----\n",
      "    1786877 pairs aligned 0 times concordantly or discordantly; of these:\n",
      "      3573754 mates make up the pairs; of these:\n",
      "        2152505 (60.23%) aligned 0 times\n",
      "        1339146 (37.47%) aligned exactly 1 time\n",
      "        82103 (2.30%) aligned >1 times\n",
      "94.14% overall alignment rate\n",
      "[bam_sort_core] merging from 4 files and 4 in-memory blocks...\n"
     ]
    },
    {
     "name": "stdout",
     "output_type": "stream",
     "text": [
      "Alignment complete for sample SRR8437480. BAM file saved at: RNA_seq_workflow/output/3_aligned_sequences/aligned_bam/SRR8437480.sorted.bam\n",
      "Aligning reads with HISAT2 for sample SRR8437481: RNA_seq_workflow/output/2_trimmed_output/SRR8437481_1.trimmed.fastq.gz and RNA_seq_workflow/output/2_trimmed_output/SRR8437481_2.trimmed.fastq.gz...\n"
     ]
    },
    {
     "name": "stderr",
     "output_type": "stream",
     "text": [
      "25544038 reads; of these:\n",
      "  25544038 (100.00%) were paired; of these:\n",
      "    6569077 (25.72%) aligned concordantly 0 times\n",
      "    18200941 (71.25%) aligned concordantly exactly 1 time\n",
      "    774020 (3.03%) aligned concordantly >1 times\n",
      "    ----\n",
      "    6569077 pairs aligned concordantly 0 times; of these:\n",
      "      94766 (1.44%) aligned discordantly 1 time\n",
      "    ----\n",
      "    6474311 pairs aligned 0 times concordantly or discordantly; of these:\n",
      "      12948622 mates make up the pairs; of these:\n",
      "        11848666 (91.51%) aligned 0 times\n",
      "        1044342 (8.07%) aligned exactly 1 time\n",
      "        55614 (0.43%) aligned >1 times\n",
      "76.81% overall alignment rate\n",
      "[bam_sort_core] merging from 6 files and 4 in-memory blocks...\n"
     ]
    },
    {
     "name": "stdout",
     "output_type": "stream",
     "text": [
      "Alignment complete for sample SRR8437481. BAM file saved at: RNA_seq_workflow/output/3_aligned_sequences/aligned_bam/SRR8437481.sorted.bam\n",
      "Aligning reads with HISAT2 for sample SRR8437478: RNA_seq_workflow/output/2_trimmed_output/SRR8437478_1.trimmed.fastq.gz and RNA_seq_workflow/output/2_trimmed_output/SRR8437478_2.trimmed.fastq.gz...\n"
     ]
    },
    {
     "name": "stderr",
     "output_type": "stream",
     "text": [
      "20140139 reads; of these:\n",
      "  20140139 (100.00%) were paired; of these:\n",
      "    2096939 (10.41%) aligned concordantly 0 times\n",
      "    17212149 (85.46%) aligned concordantly exactly 1 time\n",
      "    831051 (4.13%) aligned concordantly >1 times\n",
      "    ----\n",
      "    2096939 pairs aligned concordantly 0 times; of these:\n",
      "      144561 (6.89%) aligned discordantly 1 time\n",
      "    ----\n",
      "    1952378 pairs aligned 0 times concordantly or discordantly; of these:\n",
      "      3904756 mates make up the pairs; of these:\n",
      "        2363861 (60.54%) aligned 0 times\n",
      "        1454705 (37.25%) aligned exactly 1 time\n",
      "        86190 (2.21%) aligned >1 times\n",
      "94.13% overall alignment rate\n",
      "[bam_sort_core] merging from 5 files and 4 in-memory blocks...\n"
     ]
    },
    {
     "name": "stdout",
     "output_type": "stream",
     "text": [
      "Alignment complete for sample SRR8437478. BAM file saved at: RNA_seq_workflow/output/3_aligned_sequences/aligned_bam/SRR8437478.sorted.bam\n",
      "Aligning reads with HISAT2 for sample SRR8437479: RNA_seq_workflow/output/2_trimmed_output/SRR8437479_1.trimmed.fastq.gz and RNA_seq_workflow/output/2_trimmed_output/SRR8437479_2.trimmed.fastq.gz...\n"
     ]
    },
    {
     "name": "stderr",
     "output_type": "stream",
     "text": [
      "23016090 reads; of these:\n",
      "  23016090 (100.00%) were paired; of these:\n",
      "    2523936 (10.97%) aligned concordantly 0 times\n",
      "    19599384 (85.16%) aligned concordantly exactly 1 time\n",
      "    892770 (3.88%) aligned concordantly >1 times\n",
      "    ----\n",
      "    2523936 pairs aligned concordantly 0 times; of these:\n",
      "      191235 (7.58%) aligned discordantly 1 time\n",
      "    ----\n",
      "    2332701 pairs aligned 0 times concordantly or discordantly; of these:\n",
      "      4665402 mates make up the pairs; of these:\n",
      "        2799421 (60.00%) aligned 0 times\n",
      "        1765452 (37.84%) aligned exactly 1 time\n",
      "        100529 (2.15%) aligned >1 times\n",
      "93.92% overall alignment rate\n",
      "[bam_sort_core] merging from 5 files and 4 in-memory blocks...\n"
     ]
    },
    {
     "name": "stdout",
     "output_type": "stream",
     "text": [
      "Alignment complete for sample SRR8437479. BAM file saved at: RNA_seq_workflow/output/3_aligned_sequences/aligned_bam/SRR8437479.sorted.bam\n",
      "Alignment complete. Results are saved in: RNA_seq_workflow/output/3_aligned_sequences/aligned_bam\n"
     ]
    }
   ],
   "source": [
    "# Step 3.2: Align reads to the reference genome using HISAT2\n",
    "def align_reads_hisat2(hisat2_index_base, fastq1, fastq2, aligned_bam_dir, sample_id):\n",
    "    \"\"\"\n",
    "    Align reads using HISAT2 and save as sorted BAM files.\n",
    "\n",
    "    Parameters:\n",
    "    - hisat2_index_base: Base name for HISAT2 index.\n",
    "    - fastq1: Path to the first FASTQ file (read 1).\n",
    "    - fastq2: Path to the second FASTQ file (read 2).\n",
    "    - aligned_bam_dir: Directory to save aligned BAM files.\n",
    "    - sample_id: Identifier for the sample, used in output file naming.\n",
    "\n",
    "    Returns:\n",
    "    None\n",
    "    \"\"\"\n",
    "    os.makedirs(aligned_bam_dir, exist_ok=True)  # Create output directory if it doesn't exist\n",
    "    sam_file = os.path.join(aligned_bam_dir, f\"{sample_id}.sam\")\n",
    "    output_bam = os.path.join(aligned_bam_dir, f\"{sample_id}.sorted.bam\")\n",
    "    summary_file = os.path.join(aligned_bam_dir, f\"{sample_id}_summary.txt\")\n",
    "    \n",
    "    print(f\"Aligning reads with HISAT2 for sample {sample_id}: {fastq1} and {fastq2}...\")\n",
    "    \n",
    "   # Run HISAT2\n",
    "    hisat2_cmd = [\n",
    "        \"hisat2\",\n",
    "        \"-x\", hisat2_index_base,\n",
    "        \"-1\", fastq1,\n",
    "        \"-2\", fastq2,\n",
    "        \"-p\", \"8\",\n",
    "        \"--summary-file\", summary_file,\n",
    "        \"-S\", sam_file\n",
    "    ]\n",
    "    subprocess.run(hisat2_cmd, check=True)\n",
    "\n",
    "    # Run SAMTOOLS (converting SAM files to sorted BAM files)\n",
    "    samtools_cmd = [\"samtools\", \"sort\", \"-@\", \"4\", \"-o\", output_bam, sam_file]\n",
    "    subprocess.run(samtools_cmd, check=True)\n",
    "\n",
    "    print(f\"Alignment complete for sample {sample_id}. BAM file saved at: {output_bam}\")\n",
    "    os.remove(sam_file)  # Clean up intermediate SAM file\n",
    "    \n",
    "    #subprocess.run([\n",
    "        #\"hisat2\",\n",
    "        #\"-x\", hisat2_index_base,\n",
    "        #\"-1\", fastq1,\n",
    "        #\"-2\", fastq2,\n",
    "        #\"-p\", \"8\",  # Number of threads\n",
    "        #\"--summary-file\", os.path.join(aligned_bam_dir, f\"{sample_id}_summary.txt\"),\n",
    "        #\"|\", \"samtools\", \"sort\", \"-@\", \"4\", \"-o\", output_bam\n",
    "    #], shell=True, check=True)\n",
    "    \n",
    "    #print(f\"Alignment complete for sample {sample_id}. Aligned BAM saved as: {output_bam}\")\n",
    "\n",
    "# Step 2: Align reads\n",
    "output_folder = os.path.join(root_folder, \"output\")\n",
    "aligned_sequences_dir = os.path.join(output_folder, \"3_aligned_sequences\")\n",
    "aligned_bam_dir = os.path.join(aligned_sequences_dir, \"aligned_bam\")\n",
    "aligned_logs_dir = os.path.join(aligned_logs_dir, \"aligned_logs\")\n",
    "\n",
    "# Define samples and their FASTQ files\n",
    "samples = {\n",
    "    \"SRR8437484\": [\"output/2_trimmed_output/SRR8437484_1.trimmed.fastq.gz\", \"output/2_trimmed_output/SRR8437484_2.trimmed.fastq.gz\"],  # control 1\n",
    "    \"SRR8437485\": [\"output/2_trimmed_output/SRR8437485_1.trimmed.fastq.gz\", \"output/2_trimmed_output/SRR8437485_2.trimmed.fastq.gz\"],  # control 2\n",
    "    \"SRR8437482\": [\"output/2_trimmed_output/SRR8437482_1.trimmed.fastq.gz\", \"output/2_trimmed_output/SRR8437482_2.trimmed.fastq.gz\"],  # control 3\n",
    "    \"SRR8437483\": [\"output/2_trimmed_output/SRR8437483_1.trimmed.fastq.gz\", \"output/2_trimmed_output/SRR8437483_2.trimmed.fastq.gz\"],  # control 4\n",
    "    \"SRR8437480\": [\"output/2_trimmed_output/SRR8437480_1.trimmed.fastq.gz\", \"output/2_trimmed_output/SRR8437480_2.trimmed.fastq.gz\"],  # Pst 1\n",
    "    \"SRR8437481\": [\"output/2_trimmed_output/SRR8437481_1.trimmed.fastq.gz\", \"output/2_trimmed_output/SRR8437481_2.trimmed.fastq.gz\"],  # Pst 2\n",
    "    \"SRR8437478\": [\"output/2_trimmed_output/SRR8437478_1.trimmed.fastq.gz\", \"output/2_trimmed_output/SRR8437478_2.trimmed.fastq.gz\"],  # Pst 3\n",
    "    \"SRR8437479\": [\"output/2_trimmed_output/SRR8437479_1.trimmed.fastq.gz\", \"output/2_trimmed_output/SRR8437479_2.trimmed.fastq.gz\"],  # Pst 4\n",
    "}\n",
    "\n",
    "# HISAT2 index base path\n",
    "hisat2_index_dir = os.path.join(root_folder, \"hisat2_index\")\n",
    "hisat2_index_base = os.path.join(hisat2_index_dir, \"hisat2_index\")\n",
    "\n",
    "# Align each sample using HISAT2\n",
    "for sample_id, files in samples.items():\n",
    "    fastq1, fastq2 = [os.path.join(root_folder, file_path) for file_path in files]\n",
    "    align_reads_hisat2(hisat2_index_base, fastq1, fastq2, aligned_bam_dir, sample_id)\n",
    "\n",
    "print(f\"Alignment complete. Results are saved in: {aligned_bam_dir}\")"
   ]
  },
  {
   "cell_type": "markdown",
   "metadata": {},
   "source": [
    "#### Step 4. Perform gene quantification"
   ]
  },
  {
   "cell_type": "code",
   "execution_count": 20,
   "metadata": {},
   "outputs": [
    {
     "name": "stdout",
     "output_type": "stream",
     "text": [
      "Running FeatureCounts on BAM files...\n"
     ]
    },
    {
     "name": "stderr",
     "output_type": "stream",
     "text": [
      "\n",
      "        ==========     _____ _    _ ____  _____  ______          _____  \n",
      "        =====         / ____| |  | |  _ \\|  __ \\|  ____|   /\\   |  __ \\ \n",
      "          =====      | (___ | |  | | |_) | |__) | |__     /  \\  | |  | |\n",
      "            ====      \\___ \\| |  | |  _ <|  _  /|  __|   / /\\ \\ | |  | |\n",
      "              ====    ____) | |__| | |_) | | \\ \\| |____ / ____ \\| |__| |\n",
      "        ==========   |_____/ \\____/|____/|_|  \\_\\______/_/    \\_\\_____/\n",
      "\t  v2.0.6\n",
      "\n",
      "//========================== featureCounts setting ===========================\\\\\n",
      "||                                                                            ||\n",
      "||             Input files : 8 BAM files                                      ||\n",
      "||                                                                            ||\n",
      "||                           SRR8437484.sorted.bam                            ||\n",
      "||                           SRR8437485.sorted.bam                            ||\n",
      "||                           SRR8437482.sorted.bam                            ||\n",
      "||                           SRR8437483.sorted.bam                            ||\n",
      "||                           SRR8437480.sorted.bam                            ||\n",
      "||                           SRR8437481.sorted.bam                            ||\n",
      "||                           SRR8437478.sorted.bam                            ||\n",
      "||                           SRR8437479.sorted.bam                            ||\n",
      "||                                                                            ||\n",
      "||             Output file : gene_counts.txt                                  ||\n",
      "||                 Summary : gene_counts.txt.summary                          ||\n",
      "||              Paired-end : yes                                              ||\n",
      "||        Count read pairs : no                                               ||\n",
      "||              Annotation : Hordeum_vulgare.MorexV3_pseudomolecules_asse ... ||\n",
      "||      Dir for temp files : RNA_seq_workflow/output/4_final_counts           ||\n",
      "||                                                                            ||\n",
      "||                 Threads : 8                                                ||\n",
      "||                   Level : meta-feature level                               ||\n",
      "||      Multimapping reads : not counted                                      ||\n",
      "|| Multi-overlapping reads : not counted                                      ||\n",
      "||   Min overlapping bases : 1                                                ||\n",
      "||                                                                            ||\n",
      "\\\\============================================================================//\n",
      "\n",
      "//================================= Running ==================================\\\\\n",
      "||                                                                            ||\n",
      "|| Load annotation file Hordeum_vulgare.MorexV3_pseudomolecules_assembly. ... ||\n",
      "||    Features : 35106                                                        ||\n",
      "||    Meta-features : 35106                                                   ||\n",
      "||    Chromosomes/contigs : 7                                                 ||\n",
      "||                                                                            ||\n",
      "|| Process BAM file SRR8437484.sorted.bam...                                  ||\n",
      "||    Paired-end reads are included.                                          ||\n",
      "||    The reads are assigned on the single-end mode.                          ||\n",
      "||    Total alignments : 47772901                                             ||\n",
      "||    Successfully assigned alignments : 30271128 (63.4%)                     ||\n",
      "||    Running time : 0.07 minutes                                             ||\n",
      "||                                                                            ||\n",
      "|| Process BAM file SRR8437485.sorted.bam...                                  ||\n",
      "||    Paired-end reads are included.                                          ||\n",
      "||    The reads are assigned on the single-end mode.                          ||\n",
      "||    Total alignments : 44085784                                             ||\n",
      "||    Successfully assigned alignments : 28917892 (65.6%)                     ||\n",
      "||    Running time : 0.06 minutes                                             ||\n",
      "||                                                                            ||\n",
      "|| Process BAM file SRR8437482.sorted.bam...                                  ||\n",
      "||    Paired-end reads are included.                                          ||\n",
      "||    The reads are assigned on the single-end mode.                          ||\n",
      "||    Total alignments : 59964395                                             ||\n",
      "||    Successfully assigned alignments : 35106452 (58.5%)                     ||\n",
      "||    Running time : 0.08 minutes                                             ||\n",
      "||                                                                            ||\n",
      "|| Process BAM file SRR8437483.sorted.bam...                                  ||\n",
      "||    Paired-end reads are included.                                          ||\n",
      "||    The reads are assigned on the single-end mode.                          ||\n",
      "||    Total alignments : 44336078                                             ||\n",
      "||    Successfully assigned alignments : 27027856 (61.0%)                     ||\n",
      "||    Running time : 0.06 minutes                                             ||\n",
      "||                                                                            ||\n",
      "|| Process BAM file SRR8437480.sorted.bam...                                  ||\n",
      "||    Paired-end reads are included.                                          ||\n",
      "||    The reads are assigned on the single-end mode.                          ||\n",
      "||    Total alignments : 41165037                                             ||\n",
      "||    Successfully assigned alignments : 26978922 (65.5%)                     ||\n",
      "||    Running time : 0.07 minutes                                             ||\n",
      "||                                                                            ||\n",
      "|| Process BAM file SRR8437481.sorted.bam...                                  ||\n",
      "||    Paired-end reads are included.                                          ||\n",
      "||    The reads are assigned on the single-end mode.                          ||\n",
      "||    Total alignments : 54571452                                             ||\n",
      "||    Successfully assigned alignments : 31018916 (56.8%)                     ||\n",
      "||    Running time : 0.08 minutes                                             ||\n",
      "||                                                                            ||\n",
      "|| Process BAM file SRR8437478.sorted.bam...                                  ||\n",
      "||    Paired-end reads are included.                                          ||\n",
      "||    The reads are assigned on the single-end mode.                          ||\n",
      "||    Total alignments : 44433099                                             ||\n",
      "||    Successfully assigned alignments : 28649504 (64.5%)                     ||\n",
      "||    Running time : 0.07 minutes                                             ||\n",
      "||                                                                            ||\n",
      "|| Process BAM file SRR8437479.sorted.bam...                                  ||\n"
     ]
    },
    {
     "name": "stdout",
     "output_type": "stream",
     "text": [
      "Gene counts saved at: RNA_seq_workflow/output/4_final_counts/gene_counts.txt\n"
     ]
    },
    {
     "name": "stderr",
     "output_type": "stream",
     "text": [
      "||    Paired-end reads are included.                                          ||\n",
      "||    The reads are assigned on the single-end mode.                          ||\n",
      "||    Total alignments : 50241298                                             ||\n",
      "||    Successfully assigned alignments : 33457556 (66.6%)                     ||\n",
      "||    Running time : 0.08 minutes                                             ||\n",
      "||                                                                            ||\n",
      "|| Write the final count table.                                               ||\n",
      "|| Write the read assignment summary.                                         ||\n",
      "||                                                                            ||\n",
      "|| Summary of counting results can be found in file \"RNA_seq_workflow/output  ||\n",
      "|| /4_final_counts/gene_counts.txt.summary\"                                   ||\n",
      "||                                                                            ||\n",
      "\\\\============================================================================//\n",
      "\n"
     ]
    }
   ],
   "source": [
    "# Perform gene quantification with FeatureCounts\n",
    "def run_feature_counts(annotation_file, bam_files, output_file):\n",
    "    print(f\"Running FeatureCounts on BAM files...\")\n",
    "    subprocess.run([\n",
    "        \"featureCounts\",\n",
    "        \"-T\", \"8\",  # Number of threads\n",
    "        \"-a\", annotation_file,  # Annotation file (GTF/GFF)\n",
    "        \"-o\", output_file,  # Output file\n",
    "        \"-t\", \"gene\", \"-g\", \"gene_id\",  # Count at the gene level by gene ID,\n",
    "        \"-p\" # Specify paired-end reads\n",
    "    ] + bam_files, check=True)\n",
    "    print(f\"Gene counts saved at: {output_file}\")\n",
    "\n",
    "# Annotation file\n",
    "annotation_file = os.path.join(annotation_dir, \"Hordeum_vulgare.MorexV3_pseudomolecules_assembly.60.chr.gff3\")\n",
    "\n",
    "# Output file for counts\n",
    "gene_counts_file = os.path.join(final_counts_dir, \"gene_counts.txt\")\n",
    "\n",
    "# List of BAM files for quantification\n",
    "sorted_bam_files = [\n",
    "    os.path.join(aligned_bam_dir, f\"{sample_id}.sorted.bam\") for sample_id in samples.keys()\n",
    "]\n",
    "\n",
    "# Run FeatureCounts\n",
    "run_feature_counts(annotation_file, sorted_bam_files, gene_counts_file)"
   ]
  },
  {
   "cell_type": "markdown",
   "metadata": {},
   "source": [
    "Further analysis (Differential gene expression analysis) is performed in R"
   ]
  }
 ],
 "metadata": {
  "kernelspec": {
   "display_name": "Genomics",
   "language": "python",
   "name": "python3"
  },
  "language_info": {
   "codemirror_mode": {
    "name": "ipython",
    "version": 3
   },
   "file_extension": ".py",
   "mimetype": "text/x-python",
   "name": "python",
   "nbconvert_exporter": "python",
   "pygments_lexer": "ipython3",
   "version": "3.9.19"
  }
 },
 "nbformat": 4,
 "nbformat_minor": 2
}
